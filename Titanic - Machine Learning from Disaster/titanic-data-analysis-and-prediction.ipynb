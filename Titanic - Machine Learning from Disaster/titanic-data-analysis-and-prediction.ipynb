{
 "cells": [
  {
   "cell_type": "markdown",
   "id": "833a6efa",
   "metadata": {
    "papermill": {
     "duration": 0.024196,
     "end_time": "2022-12-29T19:10:21.830567",
     "exception": false,
     "start_time": "2022-12-29T19:10:21.806371",
     "status": "completed"
    },
    "tags": []
   },
   "source": [
    "<a id='Environment_Setup'></a>\n",
    "\n",
    "# Environment Setup\n",
    "\n"
   ]
  },
  {
   "cell_type": "code",
   "execution_count": 1,
   "id": "d9a431cd",
   "metadata": {
    "execution": {
     "iopub.execute_input": "2022-12-29T19:10:21.871003Z",
     "iopub.status.busy": "2022-12-29T19:10:21.870196Z",
     "iopub.status.idle": "2022-12-29T19:10:23.369441Z",
     "shell.execute_reply": "2022-12-29T19:10:23.368183Z"
    },
    "papermill": {
     "duration": 1.523257,
     "end_time": "2022-12-29T19:10:23.372713",
     "exception": false,
     "start_time": "2022-12-29T19:10:21.849456",
     "status": "completed"
    },
    "tags": []
   },
   "outputs": [],
   "source": [
    "import warnings\n",
    "warnings.filterwarnings('ignore')\n",
    "\n",
    "import pandas as pd\n",
    "import numpy as np\n",
    "\n",
    "import matplotlib.pyplot as plt\n",
    "import seaborn as sns\n",
    "from sklearn.metrics import plot_confusion_matrix\n",
    "\n",
    "from sklearn.preprocessing import StandardScaler\n",
    "from catboost import CatBoostClassifier\n",
    "from sklearn.preprocessing import LabelEncoder\n",
    "from sklearn.model_selection import train_test_split\n",
    "from sklearn.metrics import accuracy_score, precision_score, recall_score\n",
    "from sklearn.metrics import confusion_matrix\n",
    "from xgboost import XGBClassifier\n",
    "\n"
   ]
  },
  {
   "cell_type": "code",
   "execution_count": 2,
   "id": "5802bfd7",
   "metadata": {
    "execution": {
     "iopub.execute_input": "2022-12-29T19:10:23.411730Z",
     "iopub.status.busy": "2022-12-29T19:10:23.411313Z",
     "iopub.status.idle": "2022-12-29T19:10:23.418365Z",
     "shell.execute_reply": "2022-12-29T19:10:23.417140Z"
    },
    "papermill": {
     "duration": 0.028966,
     "end_time": "2022-12-29T19:10:23.420755",
     "exception": false,
     "start_time": "2022-12-29T19:10:23.391789",
     "status": "completed"
    },
    "tags": []
   },
   "outputs": [],
   "source": [
    "import warnings\n",
    "warnings.filterwarnings('ignore')\n",
    "\n",
    "import pandas as pd\n",
    "import numpy as np\n",
    "\n",
    "import matplotlib.pyplot as plt\n",
    "import seaborn as sns\n",
    "from sklearn.metrics import plot_confusion_matrix\n",
    "\n",
    "from sklearn.preprocessing import StandardScaler\n",
    "from catboost import CatBoostClassifier\n",
    "from sklearn.preprocessing import LabelEncoder\n",
    "from sklearn.model_selection import train_test_split\n",
    "from sklearn.metrics import accuracy_score, precision_score, recall_score\n",
    "from sklearn.metrics import confusion_matrix\n",
    "from xgboost import XGBClassifier\n",
    "\n"
   ]
  },
  {
   "cell_type": "markdown",
   "id": "743f6ca8",
   "metadata": {
    "papermill": {
     "duration": 0.019003,
     "end_time": "2022-12-29T19:10:23.458065",
     "exception": false,
     "start_time": "2022-12-29T19:10:23.439062",
     "status": "completed"
    },
    "tags": []
   },
   "source": [
    "<a id='Constants'></a>\n",
    "## Constants"
   ]
  },
  {
   "cell_type": "code",
   "execution_count": 3,
   "id": "698a5da7",
   "metadata": {
    "execution": {
     "iopub.execute_input": "2022-12-29T19:10:23.497532Z",
     "iopub.status.busy": "2022-12-29T19:10:23.497138Z",
     "iopub.status.idle": "2022-12-29T19:10:23.502461Z",
     "shell.execute_reply": "2022-12-29T19:10:23.500776Z"
    },
    "papermill": {
     "duration": 0.027694,
     "end_time": "2022-12-29T19:10:23.504949",
     "exception": false,
     "start_time": "2022-12-29T19:10:23.477255",
     "status": "completed"
    },
    "tags": []
   },
   "outputs": [],
   "source": [
    "TRAIN_PATH = \"/kaggle/input/titanic/train.csv\"\n",
    "TEST_PATH = \"/kaggle/input/titanic/test.csv\""
   ]
  },
  {
   "cell_type": "markdown",
   "id": "d3a8f137",
   "metadata": {
    "papermill": {
     "duration": 0.017974,
     "end_time": "2022-12-29T19:10:23.541302",
     "exception": false,
     "start_time": "2022-12-29T19:10:23.523328",
     "status": "completed"
    },
    "tags": []
   },
   "source": [
    "<a id='Functions'></a>\n",
    "## Functions"
   ]
  },
  {
   "cell_type": "code",
   "execution_count": 4,
   "id": "b37160bc",
   "metadata": {
    "execution": {
     "iopub.execute_input": "2022-12-29T19:10:23.583464Z",
     "iopub.status.busy": "2022-12-29T19:10:23.582673Z",
     "iopub.status.idle": "2022-12-29T19:10:23.590279Z",
     "shell.execute_reply": "2022-12-29T19:10:23.589415Z"
    },
    "papermill": {
     "duration": 0.031325,
     "end_time": "2022-12-29T19:10:23.592577",
     "exception": false,
     "start_time": "2022-12-29T19:10:23.561252",
     "status": "completed"
    },
    "tags": []
   },
   "outputs": [],
   "source": [
    "def replace_titles(x):\n",
    "    title=x['Title']\n",
    "    if title in ['Don', 'Major', 'Capt', 'Jonkheer', 'Rev', 'Col']:\n",
    "        return 'Mr'\n",
    "    elif title in ['Countess', 'Mme']:\n",
    "        return 'Mrs'\n",
    "    elif title in ['Mlle', 'Ms']:\n",
    "        return 'Miss'\n",
    "    elif title =='Dr':\n",
    "        if x['Sex']=='Male':\n",
    "            return 'Mr'\n",
    "        else:\n",
    "            return 'Mrs'\n",
    "    else:\n",
    "        return title\n",
    "    \n",
    "def substrings_in_string(big_string, substrings):\n",
    "    for substring in substrings:\n",
    "        if str.find(big_string, substring) != -1:\n",
    "            return substring\n",
    "    print (big_string)\n",
    "    return np.nan"
   ]
  },
  {
   "cell_type": "markdown",
   "id": "33903320",
   "metadata": {
    "papermill": {
     "duration": 0.020604,
     "end_time": "2022-12-29T19:10:23.631505",
     "exception": false,
     "start_time": "2022-12-29T19:10:23.610901",
     "status": "completed"
    },
    "tags": []
   },
   "source": [
    "<a id='Data_Reading'></a>\n",
    "\n",
    "# Data Reading"
   ]
  },
  {
   "cell_type": "code",
   "execution_count": 5,
   "id": "4db54fb1",
   "metadata": {
    "execution": {
     "iopub.execute_input": "2022-12-29T19:10:23.673283Z",
     "iopub.status.busy": "2022-12-29T19:10:23.672316Z",
     "iopub.status.idle": "2022-12-29T19:10:23.724777Z",
     "shell.execute_reply": "2022-12-29T19:10:23.723431Z"
    },
    "papermill": {
     "duration": 0.076625,
     "end_time": "2022-12-29T19:10:23.727884",
     "exception": false,
     "start_time": "2022-12-29T19:10:23.651259",
     "status": "completed"
    },
    "tags": []
   },
   "outputs": [
    {
     "data": {
      "text/html": [
       "<div>\n",
       "<style scoped>\n",
       "    .dataframe tbody tr th:only-of-type {\n",
       "        vertical-align: middle;\n",
       "    }\n",
       "\n",
       "    .dataframe tbody tr th {\n",
       "        vertical-align: top;\n",
       "    }\n",
       "\n",
       "    .dataframe thead th {\n",
       "        text-align: right;\n",
       "    }\n",
       "</style>\n",
       "<table border=\"1\" class=\"dataframe\">\n",
       "  <thead>\n",
       "    <tr style=\"text-align: right;\">\n",
       "      <th></th>\n",
       "      <th>PassengerId</th>\n",
       "      <th>Survived</th>\n",
       "      <th>Pclass</th>\n",
       "      <th>Name</th>\n",
       "      <th>Sex</th>\n",
       "      <th>Age</th>\n",
       "      <th>SibSp</th>\n",
       "      <th>Parch</th>\n",
       "      <th>Ticket</th>\n",
       "      <th>Fare</th>\n",
       "      <th>Cabin</th>\n",
       "      <th>Embarked</th>\n",
       "    </tr>\n",
       "  </thead>\n",
       "  <tbody>\n",
       "    <tr>\n",
       "      <th>0</th>\n",
       "      <td>1</td>\n",
       "      <td>0</td>\n",
       "      <td>3</td>\n",
       "      <td>Braund, Mr. Owen Harris</td>\n",
       "      <td>male</td>\n",
       "      <td>22.0</td>\n",
       "      <td>1</td>\n",
       "      <td>0</td>\n",
       "      <td>A/5 21171</td>\n",
       "      <td>7.2500</td>\n",
       "      <td>NaN</td>\n",
       "      <td>S</td>\n",
       "    </tr>\n",
       "    <tr>\n",
       "      <th>1</th>\n",
       "      <td>2</td>\n",
       "      <td>1</td>\n",
       "      <td>1</td>\n",
       "      <td>Cumings, Mrs. John Bradley (Florence Briggs Th...</td>\n",
       "      <td>female</td>\n",
       "      <td>38.0</td>\n",
       "      <td>1</td>\n",
       "      <td>0</td>\n",
       "      <td>PC 17599</td>\n",
       "      <td>71.2833</td>\n",
       "      <td>C85</td>\n",
       "      <td>C</td>\n",
       "    </tr>\n",
       "    <tr>\n",
       "      <th>2</th>\n",
       "      <td>3</td>\n",
       "      <td>1</td>\n",
       "      <td>3</td>\n",
       "      <td>Heikkinen, Miss. Laina</td>\n",
       "      <td>female</td>\n",
       "      <td>26.0</td>\n",
       "      <td>0</td>\n",
       "      <td>0</td>\n",
       "      <td>STON/O2. 3101282</td>\n",
       "      <td>7.9250</td>\n",
       "      <td>NaN</td>\n",
       "      <td>S</td>\n",
       "    </tr>\n",
       "  </tbody>\n",
       "</table>\n",
       "</div>"
      ],
      "text/plain": [
       "   PassengerId  Survived  Pclass  \\\n",
       "0            1         0       3   \n",
       "1            2         1       1   \n",
       "2            3         1       3   \n",
       "\n",
       "                                                Name     Sex   Age  SibSp  \\\n",
       "0                            Braund, Mr. Owen Harris    male  22.0      1   \n",
       "1  Cumings, Mrs. John Bradley (Florence Briggs Th...  female  38.0      1   \n",
       "2                             Heikkinen, Miss. Laina  female  26.0      0   \n",
       "\n",
       "   Parch            Ticket     Fare Cabin Embarked  \n",
       "0      0         A/5 21171   7.2500   NaN        S  \n",
       "1      0          PC 17599  71.2833   C85        C  \n",
       "2      0  STON/O2. 3101282   7.9250   NaN        S  "
      ]
     },
     "execution_count": 5,
     "metadata": {},
     "output_type": "execute_result"
    }
   ],
   "source": [
    "train = pd.read_csv(TRAIN_PATH)\n",
    "test = pd.read_csv(TEST_PATH)\n",
    "train.head(3)"
   ]
  },
  {
   "cell_type": "markdown",
   "id": "98557b6c",
   "metadata": {
    "papermill": {
     "duration": 0.020114,
     "end_time": "2022-12-29T19:10:23.767592",
     "exception": false,
     "start_time": "2022-12-29T19:10:23.747478",
     "status": "completed"
    },
    "tags": []
   },
   "source": [
    "<a id='Data Expolration'></a>\n",
    "<html>\n",
    "<body>\n",
    "    <div style=\"background-color:rgba(187,126,140, 0.2); border-radius: 5px;\">\n",
    "        <h1 style=\"color:#4E5166; padding:15px;\">1. Data Expolration</h1>\n",
    "    </div>\n",
    "</body>\n",
    "</html>"
   ]
  },
  {
   "cell_type": "markdown",
   "id": "7ce341d9",
   "metadata": {
    "papermill": {
     "duration": 0.019938,
     "end_time": "2022-12-29T19:10:23.806342",
     "exception": false,
     "start_time": "2022-12-29T19:10:23.786404",
     "status": "completed"
    },
    "tags": []
   },
   "source": [
    "<a id='1.1. Data_Cleaning'></a>\n",
    "## 1.1. Data Cleaning"
   ]
  },
  {
   "cell_type": "code",
   "execution_count": 6,
   "id": "a1257455",
   "metadata": {
    "execution": {
     "iopub.execute_input": "2022-12-29T19:10:23.846654Z",
     "iopub.status.busy": "2022-12-29T19:10:23.846275Z",
     "iopub.status.idle": "2022-12-29T19:10:23.869309Z",
     "shell.execute_reply": "2022-12-29T19:10:23.868416Z"
    },
    "papermill": {
     "duration": 0.046187,
     "end_time": "2022-12-29T19:10:23.872553",
     "exception": false,
     "start_time": "2022-12-29T19:10:23.826366",
     "status": "completed"
    },
    "tags": []
   },
   "outputs": [
    {
     "name": "stdout",
     "output_type": "stream",
     "text": [
      "<class 'pandas.core.frame.DataFrame'>\n",
      "RangeIndex: 891 entries, 0 to 890\n",
      "Data columns (total 12 columns):\n",
      " #   Column       Non-Null Count  Dtype  \n",
      "---  ------       --------------  -----  \n",
      " 0   PassengerId  891 non-null    int64  \n",
      " 1   Survived     891 non-null    int64  \n",
      " 2   Pclass       891 non-null    int64  \n",
      " 3   Name         891 non-null    object \n",
      " 4   Sex          891 non-null    object \n",
      " 5   Age          714 non-null    float64\n",
      " 6   SibSp        891 non-null    int64  \n",
      " 7   Parch        891 non-null    int64  \n",
      " 8   Ticket       891 non-null    object \n",
      " 9   Fare         891 non-null    float64\n",
      " 10  Cabin        204 non-null    object \n",
      " 11  Embarked     889 non-null    object \n",
      "dtypes: float64(2), int64(5), object(5)\n",
      "memory usage: 83.7+ KB\n"
     ]
    }
   ],
   "source": [
    "train.info()"
   ]
  },
  {
   "cell_type": "code",
   "execution_count": 7,
   "id": "ae69a08f",
   "metadata": {
    "execution": {
     "iopub.execute_input": "2022-12-29T19:10:23.914231Z",
     "iopub.status.busy": "2022-12-29T19:10:23.913551Z",
     "iopub.status.idle": "2022-12-29T19:10:23.924180Z",
     "shell.execute_reply": "2022-12-29T19:10:23.922968Z"
    },
    "papermill": {
     "duration": 0.033349,
     "end_time": "2022-12-29T19:10:23.926414",
     "exception": false,
     "start_time": "2022-12-29T19:10:23.893065",
     "status": "completed"
    },
    "tags": []
   },
   "outputs": [
    {
     "data": {
      "text/plain": [
       "PassengerId      0\n",
       "Survived         0\n",
       "Pclass           0\n",
       "Name             0\n",
       "Sex              0\n",
       "Age            177\n",
       "SibSp            0\n",
       "Parch            0\n",
       "Ticket           0\n",
       "Fare             0\n",
       "Cabin          687\n",
       "Embarked         2\n",
       "dtype: int64"
      ]
     },
     "execution_count": 7,
     "metadata": {},
     "output_type": "execute_result"
    }
   ],
   "source": [
    "train.isnull().sum()"
   ]
  },
  {
   "cell_type": "code",
   "execution_count": 8,
   "id": "74ec3ed3",
   "metadata": {
    "execution": {
     "iopub.execute_input": "2022-12-29T19:10:23.966978Z",
     "iopub.status.busy": "2022-12-29T19:10:23.966178Z",
     "iopub.status.idle": "2022-12-29T19:10:23.975953Z",
     "shell.execute_reply": "2022-12-29T19:10:23.974847Z"
    },
    "papermill": {
     "duration": 0.034053,
     "end_time": "2022-12-29T19:10:23.979348",
     "exception": false,
     "start_time": "2022-12-29T19:10:23.945295",
     "status": "completed"
    },
    "tags": []
   },
   "outputs": [
    {
     "name": "stdout",
     "output_type": "stream",
     "text": [
      "\u001b[1;03;8;46mNumber of duplicated Records in train: 0\n"
     ]
    }
   ],
   "source": [
    "print('\\x1b[1;03;8;46m' + \"Number of duplicated Records in train: \" +  str(sum(train.duplicated())))"
   ]
  },
  {
   "cell_type": "code",
   "execution_count": 9,
   "id": "49f9f6fb",
   "metadata": {
    "execution": {
     "iopub.execute_input": "2022-12-29T19:10:24.019577Z",
     "iopub.status.busy": "2022-12-29T19:10:24.018967Z",
     "iopub.status.idle": "2022-12-29T19:10:24.024785Z",
     "shell.execute_reply": "2022-12-29T19:10:24.023920Z"
    },
    "papermill": {
     "duration": 0.02799,
     "end_time": "2022-12-29T19:10:24.026924",
     "exception": false,
     "start_time": "2022-12-29T19:10:23.998934",
     "status": "completed"
    },
    "tags": []
   },
   "outputs": [],
   "source": [
    "train['PassengerId'] = train['PassengerId'].apply(str)"
   ]
  },
  {
   "cell_type": "code",
   "execution_count": null,
   "id": "a7f4e90b",
   "metadata": {
    "papermill": {
     "duration": 0.018182,
     "end_time": "2022-12-29T19:10:24.064083",
     "exception": false,
     "start_time": "2022-12-29T19:10:24.045901",
     "status": "completed"
    },
    "tags": []
   },
   "outputs": [],
   "source": []
  },
  {
   "cell_type": "code",
   "execution_count": 10,
   "id": "30034add",
   "metadata": {
    "execution": {
     "iopub.execute_input": "2022-12-29T19:10:24.103715Z",
     "iopub.status.busy": "2022-12-29T19:10:24.102779Z",
     "iopub.status.idle": "2022-12-29T19:10:24.112431Z",
     "shell.execute_reply": "2022-12-29T19:10:24.111501Z"
    },
    "papermill": {
     "duration": 0.031772,
     "end_time": "2022-12-29T19:10:24.114732",
     "exception": false,
     "start_time": "2022-12-29T19:10:24.082960",
     "status": "completed"
    },
    "tags": []
   },
   "outputs": [],
   "source": [
    "train.dropna(subset=['Embarked'], inplace=True)\n",
    "train['Cabin'].fillna('Unknown', inplace = True)"
   ]
  },
  {
   "cell_type": "code",
   "execution_count": 11,
   "id": "a2ae2a4d",
   "metadata": {
    "execution": {
     "iopub.execute_input": "2022-12-29T19:10:24.154757Z",
     "iopub.status.busy": "2022-12-29T19:10:24.154007Z",
     "iopub.status.idle": "2022-12-29T19:10:24.160087Z",
     "shell.execute_reply": "2022-12-29T19:10:24.159173Z"
    },
    "papermill": {
     "duration": 0.028045,
     "end_time": "2022-12-29T19:10:24.162246",
     "exception": false,
     "start_time": "2022-12-29T19:10:24.134201",
     "status": "completed"
    },
    "tags": []
   },
   "outputs": [],
   "source": [
    "train.loc[train['Age'] <1, 'Age'] = 0\n",
    "train['Age'].fillna(0, inplace = True)"
   ]
  },
  {
   "cell_type": "code",
   "execution_count": 12,
   "id": "a489e7e0",
   "metadata": {
    "execution": {
     "iopub.execute_input": "2022-12-29T19:10:24.201534Z",
     "iopub.status.busy": "2022-12-29T19:10:24.200842Z",
     "iopub.status.idle": "2022-12-29T19:10:24.215402Z",
     "shell.execute_reply": "2022-12-29T19:10:24.214535Z"
    },
    "papermill": {
     "duration": 0.036987,
     "end_time": "2022-12-29T19:10:24.217873",
     "exception": false,
     "start_time": "2022-12-29T19:10:24.180886",
     "status": "completed"
    },
    "tags": []
   },
   "outputs": [],
   "source": [
    "temp = train['Name'].apply(lambda x: x.split(','))\n",
    "train['LastName'] = temp.apply(lambda x: x[0])\n",
    "temp = temp.apply(lambda x: x[1].split('.'))\n",
    "train['FirstName'] = temp.apply(lambda x: x[1][1:])\n",
    "train['Title'] = temp.apply(lambda x: x[0][1:])\n",
    "train.drop(columns=['Name'], inplace = True)"
   ]
  },
  {
   "cell_type": "code",
   "execution_count": 13,
   "id": "a7850de2",
   "metadata": {
    "execution": {
     "iopub.execute_input": "2022-12-29T19:10:24.265132Z",
     "iopub.status.busy": "2022-12-29T19:10:24.264535Z",
     "iopub.status.idle": "2022-12-29T19:10:24.283742Z",
     "shell.execute_reply": "2022-12-29T19:10:24.282794Z"
    },
    "papermill": {
     "duration": 0.047851,
     "end_time": "2022-12-29T19:10:24.289261",
     "exception": false,
     "start_time": "2022-12-29T19:10:24.241410",
     "status": "completed"
    },
    "tags": []
   },
   "outputs": [],
   "source": [
    "train['Title']= train.apply(replace_titles, axis=1)"
   ]
  },
  {
   "cell_type": "code",
   "execution_count": 14,
   "id": "c2a7cdb6",
   "metadata": {
    "execution": {
     "iopub.execute_input": "2022-12-29T19:10:24.335051Z",
     "iopub.status.busy": "2022-12-29T19:10:24.334268Z",
     "iopub.status.idle": "2022-12-29T19:10:24.344284Z",
     "shell.execute_reply": "2022-12-29T19:10:24.342401Z"
    },
    "papermill": {
     "duration": 0.035226,
     "end_time": "2022-12-29T19:10:24.347657",
     "exception": false,
     "start_time": "2022-12-29T19:10:24.312431",
     "status": "completed"
    },
    "tags": []
   },
   "outputs": [],
   "source": [
    "cabin_list = ['A', 'B', 'C', 'D', 'E', 'F', 'T', 'G', 'Unknown']\n",
    "train['Deck']=train['Cabin'].map(lambda x: substrings_in_string(x, cabin_list))"
   ]
  },
  {
   "cell_type": "code",
   "execution_count": 15,
   "id": "6fd0eeb2",
   "metadata": {
    "execution": {
     "iopub.execute_input": "2022-12-29T19:10:24.392647Z",
     "iopub.status.busy": "2022-12-29T19:10:24.391802Z",
     "iopub.status.idle": "2022-12-29T19:10:24.398166Z",
     "shell.execute_reply": "2022-12-29T19:10:24.397252Z"
    },
    "papermill": {
     "duration": 0.03264,
     "end_time": "2022-12-29T19:10:24.400525",
     "exception": false,
     "start_time": "2022-12-29T19:10:24.367885",
     "status": "completed"
    },
    "tags": []
   },
   "outputs": [],
   "source": [
    "train['FamilySize']=train['SibSp']+train['Parch']"
   ]
  },
  {
   "cell_type": "markdown",
   "id": "78bd0c13",
   "metadata": {
    "papermill": {
     "duration": 0.018187,
     "end_time": "2022-12-29T19:10:24.438018",
     "exception": false,
     "start_time": "2022-12-29T19:10:24.419831",
     "status": "completed"
    },
    "tags": []
   },
   "source": [
    "<a id='1.2. Descriptive Analysis'></a>\n",
    "\n",
    "## 1.2. Descriptive Analysis"
   ]
  },
  {
   "cell_type": "code",
   "execution_count": 16,
   "id": "d85695fc",
   "metadata": {
    "execution": {
     "iopub.execute_input": "2022-12-29T19:10:24.478455Z",
     "iopub.status.busy": "2022-12-29T19:10:24.477707Z",
     "iopub.status.idle": "2022-12-29T19:10:24.513734Z",
     "shell.execute_reply": "2022-12-29T19:10:24.512362Z"
    },
    "papermill": {
     "duration": 0.058445,
     "end_time": "2022-12-29T19:10:24.516109",
     "exception": false,
     "start_time": "2022-12-29T19:10:24.457664",
     "status": "completed"
    },
    "tags": []
   },
   "outputs": [
    {
     "data": {
      "text/html": [
       "<div>\n",
       "<style scoped>\n",
       "    .dataframe tbody tr th:only-of-type {\n",
       "        vertical-align: middle;\n",
       "    }\n",
       "\n",
       "    .dataframe tbody tr th {\n",
       "        vertical-align: top;\n",
       "    }\n",
       "\n",
       "    .dataframe thead th {\n",
       "        text-align: right;\n",
       "    }\n",
       "</style>\n",
       "<table border=\"1\" class=\"dataframe\">\n",
       "  <thead>\n",
       "    <tr style=\"text-align: right;\">\n",
       "      <th></th>\n",
       "      <th>count</th>\n",
       "      <th>mean</th>\n",
       "      <th>std</th>\n",
       "      <th>min</th>\n",
       "      <th>25%</th>\n",
       "      <th>50%</th>\n",
       "      <th>75%</th>\n",
       "      <th>max</th>\n",
       "    </tr>\n",
       "  </thead>\n",
       "  <tbody>\n",
       "    <tr>\n",
       "      <th>Pclass</th>\n",
       "      <td>889.0</td>\n",
       "      <td>2.311586</td>\n",
       "      <td>0.834700</td>\n",
       "      <td>1.0</td>\n",
       "      <td>2.0000</td>\n",
       "      <td>3.0000</td>\n",
       "      <td>3.0</td>\n",
       "      <td>3.0000</td>\n",
       "    </tr>\n",
       "    <tr>\n",
       "      <th>Age</th>\n",
       "      <td>889.0</td>\n",
       "      <td>23.734533</td>\n",
       "      <td>17.570349</td>\n",
       "      <td>0.0</td>\n",
       "      <td>6.0000</td>\n",
       "      <td>24.0000</td>\n",
       "      <td>35.0</td>\n",
       "      <td>80.0000</td>\n",
       "    </tr>\n",
       "    <tr>\n",
       "      <th>SibSp</th>\n",
       "      <td>889.0</td>\n",
       "      <td>0.524184</td>\n",
       "      <td>1.103705</td>\n",
       "      <td>0.0</td>\n",
       "      <td>0.0000</td>\n",
       "      <td>0.0000</td>\n",
       "      <td>1.0</td>\n",
       "      <td>8.0000</td>\n",
       "    </tr>\n",
       "    <tr>\n",
       "      <th>Parch</th>\n",
       "      <td>889.0</td>\n",
       "      <td>0.382452</td>\n",
       "      <td>0.806761</td>\n",
       "      <td>0.0</td>\n",
       "      <td>0.0000</td>\n",
       "      <td>0.0000</td>\n",
       "      <td>0.0</td>\n",
       "      <td>6.0000</td>\n",
       "    </tr>\n",
       "    <tr>\n",
       "      <th>Fare</th>\n",
       "      <td>889.0</td>\n",
       "      <td>32.096681</td>\n",
       "      <td>49.697504</td>\n",
       "      <td>0.0</td>\n",
       "      <td>7.8958</td>\n",
       "      <td>14.4542</td>\n",
       "      <td>31.0</td>\n",
       "      <td>512.3292</td>\n",
       "    </tr>\n",
       "    <tr>\n",
       "      <th>FamilySize</th>\n",
       "      <td>889.0</td>\n",
       "      <td>0.906637</td>\n",
       "      <td>1.614703</td>\n",
       "      <td>0.0</td>\n",
       "      <td>0.0000</td>\n",
       "      <td>0.0000</td>\n",
       "      <td>1.0</td>\n",
       "      <td>10.0000</td>\n",
       "    </tr>\n",
       "  </tbody>\n",
       "</table>\n",
       "</div>"
      ],
      "text/plain": [
       "            count       mean        std  min     25%      50%   75%       max\n",
       "Pclass      889.0   2.311586   0.834700  1.0  2.0000   3.0000   3.0    3.0000\n",
       "Age         889.0  23.734533  17.570349  0.0  6.0000  24.0000  35.0   80.0000\n",
       "SibSp       889.0   0.524184   1.103705  0.0  0.0000   0.0000   1.0    8.0000\n",
       "Parch       889.0   0.382452   0.806761  0.0  0.0000   0.0000   0.0    6.0000\n",
       "Fare        889.0  32.096681  49.697504  0.0  7.8958  14.4542  31.0  512.3292\n",
       "FamilySize  889.0   0.906637   1.614703  0.0  0.0000   0.0000   1.0   10.0000"
      ]
     },
     "execution_count": 16,
     "metadata": {},
     "output_type": "execute_result"
    }
   ],
   "source": [
    "train.drop(columns='Survived').describe().T"
   ]
  },
  {
   "cell_type": "code",
   "execution_count": 17,
   "id": "806fc8b4",
   "metadata": {
    "execution": {
     "iopub.execute_input": "2022-12-29T19:10:24.557816Z",
     "iopub.status.busy": "2022-12-29T19:10:24.557093Z",
     "iopub.status.idle": "2022-12-29T19:10:24.577230Z",
     "shell.execute_reply": "2022-12-29T19:10:24.576027Z"
    },
    "papermill": {
     "duration": 0.044116,
     "end_time": "2022-12-29T19:10:24.579503",
     "exception": false,
     "start_time": "2022-12-29T19:10:24.535387",
     "status": "completed"
    },
    "tags": []
   },
   "outputs": [
    {
     "data": {
      "text/html": [
       "<div>\n",
       "<style scoped>\n",
       "    .dataframe tbody tr th:only-of-type {\n",
       "        vertical-align: middle;\n",
       "    }\n",
       "\n",
       "    .dataframe tbody tr th {\n",
       "        vertical-align: top;\n",
       "    }\n",
       "\n",
       "    .dataframe thead th {\n",
       "        text-align: right;\n",
       "    }\n",
       "</style>\n",
       "<table border=\"1\" class=\"dataframe\">\n",
       "  <thead>\n",
       "    <tr style=\"text-align: right;\">\n",
       "      <th></th>\n",
       "      <th>count</th>\n",
       "      <th>mean</th>\n",
       "      <th>std</th>\n",
       "      <th>min</th>\n",
       "      <th>25%</th>\n",
       "      <th>50%</th>\n",
       "      <th>75%</th>\n",
       "      <th>max</th>\n",
       "    </tr>\n",
       "  </thead>\n",
       "  <tbody>\n",
       "    <tr>\n",
       "      <th>Age</th>\n",
       "      <td>705.0</td>\n",
       "      <td>29.929078</td>\n",
       "      <td>14.273901</td>\n",
       "      <td>1.0</td>\n",
       "      <td>21.0</td>\n",
       "      <td>28.0</td>\n",
       "      <td>38.0</td>\n",
       "      <td>80.0</td>\n",
       "    </tr>\n",
       "  </tbody>\n",
       "</table>\n",
       "</div>"
      ],
      "text/plain": [
       "     count       mean        std  min   25%   50%   75%   max\n",
       "Age  705.0  29.929078  14.273901  1.0  21.0  28.0  38.0  80.0"
      ]
     },
     "execution_count": 17,
     "metadata": {},
     "output_type": "execute_result"
    }
   ],
   "source": [
    "pd.DataFrame(train['Age'].mask(train['Age'] == 0).describe()).T"
   ]
  },
  {
   "cell_type": "code",
   "execution_count": 18,
   "id": "c8c834b8",
   "metadata": {
    "execution": {
     "iopub.execute_input": "2022-12-29T19:10:24.621288Z",
     "iopub.status.busy": "2022-12-29T19:10:24.620634Z",
     "iopub.status.idle": "2022-12-29T19:10:25.235117Z",
     "shell.execute_reply": "2022-12-29T19:10:25.233834Z"
    },
    "papermill": {
     "duration": 0.638923,
     "end_time": "2022-12-29T19:10:25.238332",
     "exception": false,
     "start_time": "2022-12-29T19:10:24.599409",
     "status": "completed"
    },
    "tags": []
   },
   "outputs": [
    {
     "data": {
      "text/plain": [
       "Text(0.5, 1.0, 'Variable Correlation')"
      ]
     },
     "execution_count": 18,
     "metadata": {},
     "output_type": "execute_result"
    },
    {
     "data": {
      "image/png": "[encoded data removed]",
      "text/plain": [
       "<Figure size 360x360 with 2 Axes>"
      ]
     },
     "metadata": {
      "needs_background": "light"
     },
     "output_type": "display_data"
    }
   ],
   "source": [
    "plt.figure(figsize=(5,5))\n",
    "sns.heatmap(train.corr(),cmap = 'viridis',linewidth = 1,annot= True, annot_kws={\"size\": 9})\n",
    "plt.title('Variable Correlation')"
   ]
  },
  {
   "cell_type": "markdown",
   "id": "d7a455d1",
   "metadata": {
    "papermill": {
     "duration": 0.025025,
     "end_time": "2022-12-29T19:10:25.284035",
     "exception": false,
     "start_time": "2022-12-29T19:10:25.259010",
     "status": "completed"
    },
    "tags": []
   },
   "source": [
    "> - It is clear that Far and Pclass have a negative and meaningful correlation\n",
    "> - A high correlation between Family size and Parch and Sibsp can be observed since they developed from Parch and Sibsp. As a result, Sibsp and Parch will be removed from the data\n"
   ]
  },
  {
   "cell_type": "code",
   "execution_count": 19,
   "id": "fa29c887",
   "metadata": {
    "execution": {
     "iopub.execute_input": "2022-12-29T19:10:25.340759Z",
     "iopub.status.busy": "2022-12-29T19:10:25.339627Z",
     "iopub.status.idle": "2022-12-29T19:10:25.621584Z",
     "shell.execute_reply": "2022-12-29T19:10:25.620516Z"
    },
    "papermill": {
     "duration": 0.309815,
     "end_time": "2022-12-29T19:10:25.623981",
     "exception": false,
     "start_time": "2022-12-29T19:10:25.314166",
     "status": "completed"
    },
    "tags": []
   },
   "outputs": [
    {
     "data": {
      "text/plain": [
       "Text(0.5, 1.0, 'Variable Correlation')"
      ]
     },
     "execution_count": 19,
     "metadata": {},
     "output_type": "execute_result"
    },
    {
     "data": {
      "image/png": "[encoded data removed]",
      "text/plain": [
       "<Figure size 360x360 with 2 Axes>"
      ]
     },
     "metadata": {
      "needs_background": "light"
     },
     "output_type": "display_data"
    }
   ],
   "source": [
    "plt.figure(figsize=(5,5))\n",
    "sns.heatmap(train.mask(train['Age'] == 0)[['Age','Survived']].corr(),cmap = 'viridis',linewidth = 1,annot= True, annot_kws={\"size\": 9})\n",
    "plt.title('Variable Correlation')"
   ]
  },
  {
   "cell_type": "markdown",
   "id": "b4f87c97",
   "metadata": {
    "papermill": {
     "duration": 0.021706,
     "end_time": "2022-12-29T19:10:25.668372",
     "exception": false,
     "start_time": "2022-12-29T19:10:25.646666",
     "status": "completed"
    },
    "tags": []
   },
   "source": [
    "> Since Age included zero value, which is meaningful for this feature, these values were masked for more accurate correlations"
   ]
  },
  {
   "cell_type": "code",
   "execution_count": 20,
   "id": "a454c229",
   "metadata": {
    "execution": {
     "iopub.execute_input": "2022-12-29T19:10:25.715524Z",
     "iopub.status.busy": "2022-12-29T19:10:25.715121Z",
     "iopub.status.idle": "2022-12-29T19:10:25.734206Z",
     "shell.execute_reply": "2022-12-29T19:10:25.733144Z"
    },
    "papermill": {
     "duration": 0.046196,
     "end_time": "2022-12-29T19:10:25.736524",
     "exception": false,
     "start_time": "2022-12-29T19:10:25.690328",
     "status": "completed"
    },
    "tags": []
   },
   "outputs": [
    {
     "data": {
      "text/html": [
       "<div>\n",
       "<style scoped>\n",
       "    .dataframe tbody tr th:only-of-type {\n",
       "        vertical-align: middle;\n",
       "    }\n",
       "\n",
       "    .dataframe tbody tr th {\n",
       "        vertical-align: top;\n",
       "    }\n",
       "\n",
       "    .dataframe thead th {\n",
       "        text-align: right;\n",
       "    }\n",
       "</style>\n",
       "<table border=\"1\" class=\"dataframe\">\n",
       "  <thead>\n",
       "    <tr style=\"text-align: right;\">\n",
       "      <th></th>\n",
       "      <th>Fare</th>\n",
       "      <th>frequency</th>\n",
       "      <th>pdf</th>\n",
       "      <th>cdf</th>\n",
       "    </tr>\n",
       "  </thead>\n",
       "  <tbody>\n",
       "    <tr>\n",
       "      <th>0</th>\n",
       "      <td>0.0000</td>\n",
       "      <td>15</td>\n",
       "      <td>0.016873</td>\n",
       "      <td>0.016873</td>\n",
       "    </tr>\n",
       "    <tr>\n",
       "      <th>1</th>\n",
       "      <td>4.0125</td>\n",
       "      <td>1</td>\n",
       "      <td>0.001125</td>\n",
       "      <td>0.017998</td>\n",
       "    </tr>\n",
       "    <tr>\n",
       "      <th>2</th>\n",
       "      <td>5.0000</td>\n",
       "      <td>1</td>\n",
       "      <td>0.001125</td>\n",
       "      <td>0.019123</td>\n",
       "    </tr>\n",
       "  </tbody>\n",
       "</table>\n",
       "</div>"
      ],
      "text/plain": [
       "     Fare  frequency       pdf       cdf\n",
       "0  0.0000         15  0.016873  0.016873\n",
       "1  4.0125          1  0.001125  0.017998\n",
       "2  5.0000          1  0.001125  0.019123"
      ]
     },
     "execution_count": 20,
     "metadata": {},
     "output_type": "execute_result"
    }
   ],
   "source": [
    "# Frequency\n",
    "stats_df = train \\\n",
    ".groupby('Fare') \\\n",
    "['Fare'] \\\n",
    ".agg('count') \\\n",
    ".pipe(pd.DataFrame) \\\n",
    ".rename(columns = {'Fare': 'frequency'})\n",
    "\n",
    "# PDF\n",
    "stats_df['pdf'] = stats_df['frequency'] / sum(stats_df['frequency'])\n",
    "\n",
    "# CDF\n",
    "stats_df['cdf'] = stats_df['pdf'].cumsum()\n",
    "stats_df = stats_df.reset_index()\n",
    "stats_df.head(3)"
   ]
  },
  {
   "cell_type": "code",
   "execution_count": 21,
   "id": "c5990509",
   "metadata": {
    "execution": {
     "iopub.execute_input": "2022-12-29T19:10:25.784436Z",
     "iopub.status.busy": "2022-12-29T19:10:25.783811Z",
     "iopub.status.idle": "2022-12-29T19:10:26.802405Z",
     "shell.execute_reply": "2022-12-29T19:10:26.801196Z"
    },
    "papermill": {
     "duration": 1.046047,
     "end_time": "2022-12-29T19:10:26.805169",
     "exception": false,
     "start_time": "2022-12-29T19:10:25.759122",
     "status": "completed"
    },
    "tags": []
   },
   "outputs": [
    {
     "data": {
      "image/png": "[encoded data removed]",
      "text/plain": [
       "<Figure size 432x288 with 9 Axes>"
      ]
     },
     "metadata": {
      "needs_background": "light"
     },
     "output_type": "display_data"
    }
   ],
   "source": [
    "train.hist()\n",
    "plt.tight_layout()"
   ]
  },
  {
   "cell_type": "code",
   "execution_count": 22,
   "id": "69350755",
   "metadata": {
    "execution": {
     "iopub.execute_input": "2022-12-29T19:10:26.854356Z",
     "iopub.status.busy": "2022-12-29T19:10:26.853623Z",
     "iopub.status.idle": "2022-12-29T19:10:26.902378Z",
     "shell.execute_reply": "2022-12-29T19:10:26.901247Z"
    },
    "papermill": {
     "duration": 0.074864,
     "end_time": "2022-12-29T19:10:26.905121",
     "exception": false,
     "start_time": "2022-12-29T19:10:26.830257",
     "status": "completed"
    },
    "tags": []
   },
   "outputs": [
    {
     "data": {
      "text/html": [
       "<div>\n",
       "<style scoped>\n",
       "    .dataframe tbody tr th:only-of-type {\n",
       "        vertical-align: middle;\n",
       "    }\n",
       "\n",
       "    .dataframe tbody tr th {\n",
       "        vertical-align: top;\n",
       "    }\n",
       "\n",
       "    .dataframe thead th {\n",
       "        text-align: right;\n",
       "    }\n",
       "</style>\n",
       "<table border=\"1\" class=\"dataframe\">\n",
       "  <thead>\n",
       "    <tr style=\"text-align: right;\">\n",
       "      <th></th>\n",
       "      <th></th>\n",
       "      <th>Pclass</th>\n",
       "    </tr>\n",
       "    <tr>\n",
       "      <th>Fare</th>\n",
       "      <th>Ticket</th>\n",
       "      <th></th>\n",
       "    </tr>\n",
       "  </thead>\n",
       "  <tbody>\n",
       "    <tr>\n",
       "      <th rowspan=\"5\" valign=\"top\">0.0000</th>\n",
       "      <th>112050</th>\n",
       "      <td>[1]</td>\n",
       "    </tr>\n",
       "    <tr>\n",
       "      <th>112052</th>\n",
       "      <td>[1]</td>\n",
       "    </tr>\n",
       "    <tr>\n",
       "      <th>112058</th>\n",
       "      <td>[1]</td>\n",
       "    </tr>\n",
       "    <tr>\n",
       "      <th>112059</th>\n",
       "      <td>[1]</td>\n",
       "    </tr>\n",
       "    <tr>\n",
       "      <th>19972</th>\n",
       "      <td>[1]</td>\n",
       "    </tr>\n",
       "    <tr>\n",
       "      <th>...</th>\n",
       "      <th>...</th>\n",
       "      <td>...</td>\n",
       "    </tr>\n",
       "    <tr>\n",
       "      <th>227.5250</th>\n",
       "      <th>PC 17757</th>\n",
       "      <td>[1]</td>\n",
       "    </tr>\n",
       "    <tr>\n",
       "      <th>247.5208</th>\n",
       "      <th>PC 17558</th>\n",
       "      <td>[1]</td>\n",
       "    </tr>\n",
       "    <tr>\n",
       "      <th>262.3750</th>\n",
       "      <th>PC 17608</th>\n",
       "      <td>[1]</td>\n",
       "    </tr>\n",
       "    <tr>\n",
       "      <th>263.0000</th>\n",
       "      <th>19950</th>\n",
       "      <td>[1]</td>\n",
       "    </tr>\n",
       "    <tr>\n",
       "      <th>512.3292</th>\n",
       "      <th>PC 17755</th>\n",
       "      <td>[1]</td>\n",
       "    </tr>\n",
       "  </tbody>\n",
       "</table>\n",
       "<p>681 rows × 1 columns</p>\n",
       "</div>"
      ],
      "text/plain": [
       "                  Pclass\n",
       "Fare     Ticket         \n",
       "0.0000   112050      [1]\n",
       "         112052      [1]\n",
       "         112058      [1]\n",
       "         112059      [1]\n",
       "         19972       [1]\n",
       "...                  ...\n",
       "227.5250 PC 17757    [1]\n",
       "247.5208 PC 17558    [1]\n",
       "262.3750 PC 17608    [1]\n",
       "263.0000 19950       [1]\n",
       "512.3292 PC 17755    [1]\n",
       "\n",
       "[681 rows x 1 columns]"
      ]
     },
     "execution_count": 22,
     "metadata": {},
     "output_type": "execute_result"
    }
   ],
   "source": [
    "pd.DataFrame(train.groupby(['Fare','Ticket'])['Pclass'].apply(np.unique))\n"
   ]
  },
  {
   "cell_type": "markdown",
   "id": "12e5508d",
   "metadata": {
    "papermill": {
     "duration": 0.022458,
     "end_time": "2022-12-29T19:10:26.950843",
     "exception": false,
     "start_time": "2022-12-29T19:10:26.928385",
     "status": "completed"
    },
    "tags": []
   },
   "source": [
    "> Because each ticket has a fare, \"ticket\" can be considered a duplicate feature and should be removed as it does not add any further information"
   ]
  },
  {
   "cell_type": "code",
   "execution_count": 23,
   "id": "6c83fb0f",
   "metadata": {
    "execution": {
     "iopub.execute_input": "2022-12-29T19:10:26.999151Z",
     "iopub.status.busy": "2022-12-29T19:10:26.998727Z",
     "iopub.status.idle": "2022-12-29T19:10:27.019362Z",
     "shell.execute_reply": "2022-12-29T19:10:27.017454Z"
    },
    "papermill": {
     "duration": 0.049281,
     "end_time": "2022-12-29T19:10:27.022504",
     "exception": false,
     "start_time": "2022-12-29T19:10:26.973223",
     "status": "completed"
    },
    "tags": []
   },
   "outputs": [
    {
     "data": {
      "text/html": [
       "<div>\n",
       "<style scoped>\n",
       "    .dataframe tbody tr th:only-of-type {\n",
       "        vertical-align: middle;\n",
       "    }\n",
       "\n",
       "    .dataframe tbody tr th {\n",
       "        vertical-align: top;\n",
       "    }\n",
       "\n",
       "    .dataframe thead th {\n",
       "        text-align: right;\n",
       "    }\n",
       "</style>\n",
       "<table border=\"1\" class=\"dataframe\">\n",
       "  <thead>\n",
       "    <tr style=\"text-align: right;\">\n",
       "      <th></th>\n",
       "      <th>PassengerId</th>\n",
       "      <th>Survived</th>\n",
       "      <th>Pclass</th>\n",
       "      <th>Sex</th>\n",
       "      <th>Age</th>\n",
       "      <th>Fare</th>\n",
       "      <th>Embarked</th>\n",
       "      <th>Title</th>\n",
       "      <th>Deck</th>\n",
       "      <th>FamilySize</th>\n",
       "    </tr>\n",
       "  </thead>\n",
       "  <tbody>\n",
       "    <tr>\n",
       "      <th>0</th>\n",
       "      <td>1</td>\n",
       "      <td>0</td>\n",
       "      <td>3</td>\n",
       "      <td>male</td>\n",
       "      <td>22.0</td>\n",
       "      <td>7.2500</td>\n",
       "      <td>S</td>\n",
       "      <td>Mr</td>\n",
       "      <td>Unknown</td>\n",
       "      <td>1</td>\n",
       "    </tr>\n",
       "    <tr>\n",
       "      <th>1</th>\n",
       "      <td>2</td>\n",
       "      <td>1</td>\n",
       "      <td>1</td>\n",
       "      <td>female</td>\n",
       "      <td>38.0</td>\n",
       "      <td>71.2833</td>\n",
       "      <td>C</td>\n",
       "      <td>Mrs</td>\n",
       "      <td>C</td>\n",
       "      <td>1</td>\n",
       "    </tr>\n",
       "    <tr>\n",
       "      <th>2</th>\n",
       "      <td>3</td>\n",
       "      <td>1</td>\n",
       "      <td>3</td>\n",
       "      <td>female</td>\n",
       "      <td>26.0</td>\n",
       "      <td>7.9250</td>\n",
       "      <td>S</td>\n",
       "      <td>Miss</td>\n",
       "      <td>Unknown</td>\n",
       "      <td>0</td>\n",
       "    </tr>\n",
       "  </tbody>\n",
       "</table>\n",
       "</div>"
      ],
      "text/plain": [
       "  PassengerId  Survived  Pclass     Sex   Age     Fare Embarked Title  \\\n",
       "0           1         0       3    male  22.0   7.2500        S    Mr   \n",
       "1           2         1       1  female  38.0  71.2833        C   Mrs   \n",
       "2           3         1       3  female  26.0   7.9250        S  Miss   \n",
       "\n",
       "      Deck  FamilySize  \n",
       "0  Unknown           1  \n",
       "1        C           1  \n",
       "2  Unknown           0  "
      ]
     },
     "execution_count": 23,
     "metadata": {},
     "output_type": "execute_result"
    }
   ],
   "source": [
    "train.drop(columns=['Parch', 'SibSp', 'Cabin', 'LastName', 'FirstName', 'Ticket'], inplace=True)\n",
    "train.head(3)"
   ]
  },
  {
   "cell_type": "code",
   "execution_count": 24,
   "id": "d94dbdfa",
   "metadata": {
    "execution": {
     "iopub.execute_input": "2022-12-29T19:10:27.071075Z",
     "iopub.status.busy": "2022-12-29T19:10:27.070630Z",
     "iopub.status.idle": "2022-12-29T19:10:27.290911Z",
     "shell.execute_reply": "2022-12-29T19:10:27.289602Z"
    },
    "papermill": {
     "duration": 0.247775,
     "end_time": "2022-12-29T19:10:27.293498",
     "exception": false,
     "start_time": "2022-12-29T19:10:27.045723",
     "status": "completed"
    },
    "tags": []
   },
   "outputs": [
    {
     "data": {
      "image/png": "[encoded data removed]",
      "text/plain": [
       "<Figure size 432x288 with 1 Axes>"
      ]
     },
     "metadata": {
      "needs_background": "light"
     },
     "output_type": "display_data"
    }
   ],
   "source": [
    "ax = train['Survived'].hist(color=(0.188,0.66,0.413))\n",
    "ax.set_xlabel(\"Survived\")\n",
    "ax.set_ylabel(\"Number of passenger\")\n",
    "plt.show()"
   ]
  },
  {
   "cell_type": "code",
   "execution_count": 25,
   "id": "aec6b49b",
   "metadata": {
    "execution": {
     "iopub.execute_input": "2022-12-29T19:10:27.341493Z",
     "iopub.status.busy": "2022-12-29T19:10:27.340999Z",
     "iopub.status.idle": "2022-12-29T19:10:28.340185Z",
     "shell.execute_reply": "2022-12-29T19:10:28.339116Z"
    },
    "papermill": {
     "duration": 1.028168,
     "end_time": "2022-12-29T19:10:28.344448",
     "exception": false,
     "start_time": "2022-12-29T19:10:27.316280",
     "status": "completed"
    },
    "tags": []
   },
   "outputs": [
    {
     "data": {
      "image/png": "[encoded data removed]",
      "text/plain": [
       "<Figure size 1440x1800 with 6 Axes>"
      ]
     },
     "metadata": {
      "needs_background": "light"
     },
     "output_type": "display_data"
    }
   ],
   "source": [
    "bins = np.arange(2) - 0.5\n",
    "fig, axes = plt.subplots(nrows=3, ncols=2,figsize=(20, 25))\n",
    "train.groupby('Pclass').count()['Survived'].plot(kind='bar', ax=axes[0,0], color=(0.188,0.66,0.413)) \n",
    "train.groupby('Sex').count()['Survived'].plot(kind='bar', ax=axes[0,1], color=(0.5,0,0.8)) \n",
    "train.groupby('Embarked').count()['Survived'].plot(kind='bar', ax=axes[1,0], color=(1,0.9,0)) \n",
    "train.groupby('Deck').count()['Survived'].plot(kind='bar', ax=axes[1,1], color=(0.6,0.1,0)) \n",
    "train.groupby('FamilySize').count()['Survived'].plot(kind='bar', ax=axes[2,0], color=(0.9,0.2,0.9)) \n",
    "train.groupby('Title').count()['Survived'].plot(kind='bar', ax=axes[2,1], color=(0.3,0.1,0.9)) \n",
    "fig.suptitle('Number of survivor in diffrent categories', fontsize=16)\n",
    "plt.show()\n"
   ]
  },
  {
   "cell_type": "code",
   "execution_count": 26,
   "id": "98a53222",
   "metadata": {
    "execution": {
     "iopub.execute_input": "2022-12-29T19:10:28.395113Z",
     "iopub.status.busy": "2022-12-29T19:10:28.394097Z",
     "iopub.status.idle": "2022-12-29T19:10:28.402050Z",
     "shell.execute_reply": "2022-12-29T19:10:28.401095Z"
    },
    "papermill": {
     "duration": 0.034649,
     "end_time": "2022-12-29T19:10:28.404632",
     "exception": false,
     "start_time": "2022-12-29T19:10:28.369983",
     "status": "completed"
    },
    "tags": []
   },
   "outputs": [],
   "source": [
    "train['Age'] = train['Age'].apply(int)"
   ]
  },
  {
   "cell_type": "code",
   "execution_count": 27,
   "id": "d88b4085",
   "metadata": {
    "execution": {
     "iopub.execute_input": "2022-12-29T19:10:28.460922Z",
     "iopub.status.busy": "2022-12-29T19:10:28.460402Z",
     "iopub.status.idle": "2022-12-29T19:10:29.082103Z",
     "shell.execute_reply": "2022-12-29T19:10:29.079626Z"
    },
    "papermill": {
     "duration": 0.653878,
     "end_time": "2022-12-29T19:10:29.085930",
     "exception": false,
     "start_time": "2022-12-29T19:10:28.432052",
     "status": "completed"
    },
    "tags": []
   },
   "outputs": [
    {
     "data": {
      "image/png": "[encoded data removed]",
      "text/plain": [
       "<Figure size 1440x288 with 1 Axes>"
      ]
     },
     "metadata": {},
     "output_type": "display_data"
    },
    {
     "data": {
      "image/png": "[encoded data removed]",
      "text/plain": [
       "<Figure size 1440x288 with 1 Axes>"
      ]
     },
     "metadata": {},
     "output_type": "display_data"
    }
   ],
   "source": [
    "plt.style.use(\"ggplot\")\n",
    "for column in ['Age', 'Fare']:\n",
    "    plt.figure(figsize=(20,4))\n",
    "    plt.subplot(121)\n",
    "    sns.distplot(train[column], kde=True)\n",
    "    plt.title(column)"
   ]
  },
  {
   "cell_type": "code",
   "execution_count": 28,
   "id": "cff2f25e",
   "metadata": {
    "execution": {
     "iopub.execute_input": "2022-12-29T19:10:29.136859Z",
     "iopub.status.busy": "2022-12-29T19:10:29.136100Z",
     "iopub.status.idle": "2022-12-29T19:10:36.992988Z",
     "shell.execute_reply": "2022-12-29T19:10:36.991770Z"
    },
    "papermill": {
     "duration": 7.884881,
     "end_time": "2022-12-29T19:10:36.996109",
     "exception": false,
     "start_time": "2022-12-29T19:10:29.111228",
     "status": "completed"
    },
    "tags": []
   },
   "outputs": [
    {
     "data": {
      "image/png": "[encoded data removed]",
      "text/plain": [
       "<Figure size 4320x720 with 1 Axes>"
      ]
     },
     "metadata": {},
     "output_type": "display_data"
    },
    {
     "data": {
      "image/png": "[encoded data removed]",
      "text/plain": [
       "<Figure size 4320x720 with 1 Axes>"
      ]
     },
     "metadata": {},
     "output_type": "display_data"
    },
    {
     "data": {
      "image/png": "[encoded data removed]",
      "text/plain": [
       "<Figure size 4320x720 with 1 Axes>"
      ]
     },
     "metadata": {},
     "output_type": "display_data"
    },
    {
     "data": {
      "image/png": "[encoded data removed]",
      "text/plain": [
       "<Figure size 4320x720 with 1 Axes>"
      ]
     },
     "metadata": {},
     "output_type": "display_data"
    },
    {
     "data": {
      "image/png": "[encoded data removed]",
      "text/plain": [
       "<Figure size 4320x720 with 1 Axes>"
      ]
     },
     "metadata": {},
     "output_type": "display_data"
    },
    {
     "data": {
      "image/png": "[encoded data removed]",
      "text/plain": [
       "<Figure size 4320x720 with 1 Axes>"
      ]
     },
     "metadata": {},
     "output_type": "display_data"
    },
    {
     "data": {
      "image/png": "[encoded data removed]",
      "text/plain": [
       "<Figure size 4320x720 with 1 Axes>"
      ]
     },
     "metadata": {},
     "output_type": "display_data"
    }
   ],
   "source": [
    "plt.style.use(\"ggplot\")\n",
    "for column in ['Pclass', 'Sex', 'Age', 'Embarked', 'Title', 'FamilySize', 'Fare']:\n",
    "    plt.figure(figsize=(60,10))\n",
    "    plt.subplot(121)\n",
    "    sns.countplot(train[column], hue=train[\"Survived\"])\n",
    "    plt.title(column)    \n",
    "    plt.xticks(rotation=90)"
   ]
  },
  {
   "cell_type": "markdown",
   "id": "65e08c1a",
   "metadata": {
    "papermill": {
     "duration": 0.026501,
     "end_time": "2022-12-29T19:10:37.050964",
     "exception": false,
     "start_time": "2022-12-29T19:10:37.024463",
     "status": "completed"
    },
    "tags": []
   },
   "source": [
    "<a id='model implementation'></a>\n",
    "<html>\n",
    "<body>\n",
    "    <div style=\"background-color:rgba(187,126,140, 0.2); border-radius: 5px;\">\n",
    "        <h1 style=\"color:#4E5166; padding:15px;\">2. model implementation</h1>\n",
    "    </div>\n",
    "</body>\n",
    "</html>"
   ]
  },
  {
   "cell_type": "markdown",
   "id": "382d3af1",
   "metadata": {
    "papermill": {
     "duration": 0.028132,
     "end_time": "2022-12-29T19:10:37.106654",
     "exception": false,
     "start_time": "2022-12-29T19:10:37.078522",
     "status": "completed"
    },
    "tags": []
   },
   "source": [
    "<a id='2.1. Remove skewness'></a>\n",
    "\n",
    "## 2.1. Remove skewness"
   ]
  },
  {
   "cell_type": "code",
   "execution_count": 29,
   "id": "411b8b6b",
   "metadata": {
    "execution": {
     "iopub.execute_input": "2022-12-29T19:10:37.165937Z",
     "iopub.status.busy": "2022-12-29T19:10:37.164921Z",
     "iopub.status.idle": "2022-12-29T19:10:37.692478Z",
     "shell.execute_reply": "2022-12-29T19:10:37.691560Z"
    },
    "papermill": {
     "duration": 0.560186,
     "end_time": "2022-12-29T19:10:37.695173",
     "exception": false,
     "start_time": "2022-12-29T19:10:37.134987",
     "status": "completed"
    },
    "tags": []
   },
   "outputs": [
    {
     "data": {
      "text/plain": [
       "<AxesSubplot:xlabel='Fare', ylabel='Density'>"
      ]
     },
     "execution_count": 29,
     "metadata": {},
     "output_type": "execute_result"
    },
    {
     "data": {
      "image/png": "[encoded data removed]",
      "text/plain": [
       "<Figure size 1440x360 with 2 Axes>"
      ]
     },
     "metadata": {},
     "output_type": "display_data"
    }
   ],
   "source": [
    "# Plot train distribution\n",
    "plt.figure(figsize=(20,5))\n",
    "\n",
    "plt.subplot(1,2,1)\n",
    "sns.distplot(train['Age'], color=(0.188,0.66,0.413))\n",
    "\n",
    "plt.subplot(1,2,2)\n",
    "sns.distplot(train['Fare'], color=(0.5,0,0.8))"
   ]
  },
  {
   "cell_type": "code",
   "execution_count": 30,
   "id": "c9376abd",
   "metadata": {
    "execution": {
     "iopub.execute_input": "2022-12-29T19:10:37.755978Z",
     "iopub.status.busy": "2022-12-29T19:10:37.754719Z",
     "iopub.status.idle": "2022-12-29T19:10:38.293102Z",
     "shell.execute_reply": "2022-12-29T19:10:38.291761Z"
    },
    "papermill": {
     "duration": 0.571247,
     "end_time": "2022-12-29T19:10:38.295867",
     "exception": false,
     "start_time": "2022-12-29T19:10:37.724620",
     "status": "completed"
    },
    "tags": []
   },
   "outputs": [
    {
     "data": {
      "text/plain": [
       "<AxesSubplot:xlabel='Fare', ylabel='Density'>"
      ]
     },
     "execution_count": 30,
     "metadata": {},
     "output_type": "execute_result"
    },
    {
     "data": {
      "image/png": "[encoded data removed]",
      "text/plain": [
       "<Figure size 1440x360 with 2 Axes>"
      ]
     },
     "metadata": {},
     "output_type": "display_data"
    }
   ],
   "source": [
    "train_log = train.copy()\n",
    "train_log['Age'] = train_log['Age'].map(lambda i: np.log(i) if i > 0 else 0)\n",
    "train_log['Fare'] = train_log['Fare'].map(lambda i: np.log(i) if i > 0 else 0)\n",
    "\n",
    "plt.figure(figsize=(20,5))\n",
    "\n",
    "plt.subplot(1,2,1)\n",
    "sns.distplot(train_log['Age'], color=(0.188,0.66,0.413))\n",
    "\n",
    "plt.subplot(1,2,2)\n",
    "sns.distplot(train_log['Fare'], color=(0.5,0,0.8))"
   ]
  },
  {
   "cell_type": "markdown",
   "id": "0fd67909",
   "metadata": {
    "papermill": {
     "duration": 0.031734,
     "end_time": "2022-12-29T19:10:38.357182",
     "exception": false,
     "start_time": "2022-12-29T19:10:38.325448",
     "status": "completed"
    },
    "tags": []
   },
   "source": [
    "<a id='2.2. Data Scaling'></a>\n",
    "\n",
    "## 2.2. Data Scaling\n"
   ]
  },
  {
   "cell_type": "markdown",
   "id": "e3a5e17b",
   "metadata": {
    "papermill": {
     "duration": 0.030748,
     "end_time": "2022-12-29T19:10:38.418142",
     "exception": false,
     "start_time": "2022-12-29T19:10:38.387394",
     "status": "completed"
    },
    "tags": []
   },
   "source": [
    "Do we need over/under/random sampling?"
   ]
  },
  {
   "cell_type": "code",
   "execution_count": 31,
   "id": "b36a3262",
   "metadata": {
    "execution": {
     "iopub.execute_input": "2022-12-29T19:10:38.480662Z",
     "iopub.status.busy": "2022-12-29T19:10:38.480246Z",
     "iopub.status.idle": "2022-12-29T19:10:38.487912Z",
     "shell.execute_reply": "2022-12-29T19:10:38.486575Z"
    },
    "papermill": {
     "duration": 0.040995,
     "end_time": "2022-12-29T19:10:38.490203",
     "exception": false,
     "start_time": "2022-12-29T19:10:38.449208",
     "status": "completed"
    },
    "tags": []
   },
   "outputs": [
    {
     "name": "stdout",
     "output_type": "stream",
     "text": [
      "{0: 549, 1: 340}\n",
      "The ratio of survived to not survived is: 61.93\n"
     ]
    }
   ],
   "source": [
    "counter = dict(train_log['Survived'].value_counts())\n",
    "print(counter)\n",
    "print('The ratio of survived to not survived is:',round(counter[1]/counter[0]*100,2))"
   ]
  },
  {
   "cell_type": "markdown",
   "id": "bba00ba4",
   "metadata": {
    "papermill": {
     "duration": 0.028953,
     "end_time": "2022-12-29T19:10:38.548114",
     "exception": false,
     "start_time": "2022-12-29T19:10:38.519161",
     "status": "completed"
    },
    "tags": []
   },
   "source": [
    "> Doesn't seem so"
   ]
  },
  {
   "cell_type": "code",
   "execution_count": 32,
   "id": "03d72f5e",
   "metadata": {
    "execution": {
     "iopub.execute_input": "2022-12-29T19:10:38.607189Z",
     "iopub.status.busy": "2022-12-29T19:10:38.606464Z",
     "iopub.status.idle": "2022-12-29T19:10:38.615457Z",
     "shell.execute_reply": "2022-12-29T19:10:38.614229Z"
    },
    "papermill": {
     "duration": 0.041099,
     "end_time": "2022-12-29T19:10:38.618056",
     "exception": false,
     "start_time": "2022-12-29T19:10:38.576957",
     "status": "completed"
    },
    "tags": []
   },
   "outputs": [],
   "source": [
    "X = train_log.drop(columns=['Survived']).set_index('PassengerId')\n",
    "Y = train_log[['PassengerId','Survived']].set_index('PassengerId')"
   ]
  },
  {
   "cell_type": "code",
   "execution_count": 33,
   "id": "693babfa",
   "metadata": {
    "execution": {
     "iopub.execute_input": "2022-12-29T19:10:38.679292Z",
     "iopub.status.busy": "2022-12-29T19:10:38.678591Z",
     "iopub.status.idle": "2022-12-29T19:10:38.697523Z",
     "shell.execute_reply": "2022-12-29T19:10:38.696509Z"
    },
    "papermill": {
     "duration": 0.051768,
     "end_time": "2022-12-29T19:10:38.699952",
     "exception": false,
     "start_time": "2022-12-29T19:10:38.648184",
     "status": "completed"
    },
    "tags": []
   },
   "outputs": [],
   "source": [
    "scaler = StandardScaler()\n",
    "X_scaled = scaler.fit_transform(X[[\"Age\",\"Fare\",\"FamilySize\", \"Pclass\"]])\n",
    "X_scaled = pd.DataFrame(X_scaled,columns=[\"Age\",\"Fare\",\"FamilySize\",\"Pclass\"], index=X.index)\n",
    "X_scaled = X_scaled.join(X.drop(columns=[\"Age\",\"Fare\",\"FamilySize\",\"Pclass\"]))"
   ]
  },
  {
   "cell_type": "markdown",
   "id": "132efa79",
   "metadata": {
    "papermill": {
     "duration": 0.029273,
     "end_time": "2022-12-29T19:10:38.759655",
     "exception": false,
     "start_time": "2022-12-29T19:10:38.730382",
     "status": "completed"
    },
    "tags": []
   },
   "source": [
    "<a id='2.3. Prediction'></a>\n",
    "## 2.3. Prediction "
   ]
  },
  {
   "cell_type": "markdown",
   "id": "d07530cc",
   "metadata": {
    "papermill": {
     "duration": 0.031425,
     "end_time": "2022-12-29T19:10:38.819551",
     "exception": false,
     "start_time": "2022-12-29T19:10:38.788126",
     "status": "completed"
    },
    "tags": []
   },
   "source": [
    "<a id='2.3.1. Catboost'></a>\n",
    "### 2.3.1. Catboost"
   ]
  },
  {
   "cell_type": "markdown",
   "id": "a3a797c6",
   "metadata": {
    "papermill": {
     "duration": 0.031763,
     "end_time": "2022-12-29T19:10:38.880013",
     "exception": false,
     "start_time": "2022-12-29T19:10:38.848250",
     "status": "completed"
    },
    "tags": []
   },
   "source": [
    "<a id='2.3. Train phase'></a>\n",
    "\n",
    "#### Train phase"
   ]
  },
  {
   "cell_type": "code",
   "execution_count": 34,
   "id": "c1d3a9c5",
   "metadata": {
    "execution": {
     "iopub.execute_input": "2022-12-29T19:10:38.943792Z",
     "iopub.status.busy": "2022-12-29T19:10:38.942477Z",
     "iopub.status.idle": "2022-12-29T19:10:38.951764Z",
     "shell.execute_reply": "2022-12-29T19:10:38.950786Z"
    },
    "papermill": {
     "duration": 0.044164,
     "end_time": "2022-12-29T19:10:38.954357",
     "exception": false,
     "start_time": "2022-12-29T19:10:38.910193",
     "status": "completed"
    },
    "tags": []
   },
   "outputs": [],
   "source": [
    "seed = 7\n",
    "test_size = 0.33\n",
    "X_train, X_test, y_train, y_test = train_test_split(X_scaled, Y, test_size=test_size, random_state=seed)"
   ]
  },
  {
   "cell_type": "code",
   "execution_count": 35,
   "id": "bad8609f",
   "metadata": {
    "execution": {
     "iopub.execute_input": "2022-12-29T19:10:39.018513Z",
     "iopub.status.busy": "2022-12-29T19:10:39.017664Z",
     "iopub.status.idle": "2022-12-29T19:10:39.030678Z",
     "shell.execute_reply": "2022-12-29T19:10:39.028494Z"
    },
    "papermill": {
     "duration": 0.048912,
     "end_time": "2022-12-29T19:10:39.033415",
     "exception": false,
     "start_time": "2022-12-29T19:10:38.984503",
     "status": "completed"
    },
    "scrolled": true,
    "tags": []
   },
   "outputs": [
    {
     "name": "stdout",
     "output_type": "stream",
     "text": [
      "Survived\n",
      "0           375\n",
      "1           220\n",
      "dtype: int64\n",
      "Survived\n",
      "0           174\n",
      "1           120\n",
      "dtype: int64\n"
     ]
    }
   ],
   "source": [
    "print(y_train.value_counts())\n",
    "print(y_test.value_counts())"
   ]
  },
  {
   "cell_type": "code",
   "execution_count": 36,
   "id": "abb75b82",
   "metadata": {
    "execution": {
     "iopub.execute_input": "2022-12-29T19:10:39.099064Z",
     "iopub.status.busy": "2022-12-29T19:10:39.098609Z",
     "iopub.status.idle": "2022-12-29T19:10:39.116135Z",
     "shell.execute_reply": "2022-12-29T19:10:39.114771Z"
    },
    "papermill": {
     "duration": 0.053063,
     "end_time": "2022-12-29T19:10:39.118778",
     "exception": false,
     "start_time": "2022-12-29T19:10:39.065715",
     "status": "completed"
    },
    "tags": []
   },
   "outputs": [
    {
     "data": {
      "text/html": [
       "<div>\n",
       "<style scoped>\n",
       "    .dataframe tbody tr th:only-of-type {\n",
       "        vertical-align: middle;\n",
       "    }\n",
       "\n",
       "    .dataframe tbody tr th {\n",
       "        vertical-align: top;\n",
       "    }\n",
       "\n",
       "    .dataframe thead th {\n",
       "        text-align: right;\n",
       "    }\n",
       "</style>\n",
       "<table border=\"1\" class=\"dataframe\">\n",
       "  <thead>\n",
       "    <tr style=\"text-align: right;\">\n",
       "      <th></th>\n",
       "      <th>Age</th>\n",
       "      <th>Fare</th>\n",
       "      <th>FamilySize</th>\n",
       "      <th>Pclass</th>\n",
       "      <th>Sex</th>\n",
       "      <th>Embarked</th>\n",
       "      <th>Title</th>\n",
       "      <th>Deck</th>\n",
       "    </tr>\n",
       "    <tr>\n",
       "      <th>PassengerId</th>\n",
       "      <th></th>\n",
       "      <th></th>\n",
       "      <th></th>\n",
       "      <th></th>\n",
       "      <th></th>\n",
       "      <th></th>\n",
       "      <th></th>\n",
       "      <th></th>\n",
       "    </tr>\n",
       "  </thead>\n",
       "  <tbody>\n",
       "    <tr>\n",
       "      <th>745</th>\n",
       "      <td>27</td>\n",
       "      <td>31</td>\n",
       "      <td>0</td>\n",
       "      <td>2</td>\n",
       "      <td>1</td>\n",
       "      <td>2</td>\n",
       "      <td>3</td>\n",
       "      <td>8</td>\n",
       "    </tr>\n",
       "    <tr>\n",
       "      <th>659</th>\n",
       "      <td>19</td>\n",
       "      <td>64</td>\n",
       "      <td>0</td>\n",
       "      <td>1</td>\n",
       "      <td>1</td>\n",
       "      <td>2</td>\n",
       "      <td>3</td>\n",
       "      <td>8</td>\n",
       "    </tr>\n",
       "    <tr>\n",
       "      <th>841</th>\n",
       "      <td>16</td>\n",
       "      <td>31</td>\n",
       "      <td>0</td>\n",
       "      <td>2</td>\n",
       "      <td>1</td>\n",
       "      <td>2</td>\n",
       "      <td>3</td>\n",
       "      <td>8</td>\n",
       "    </tr>\n",
       "    <tr>\n",
       "      <th>718</th>\n",
       "      <td>23</td>\n",
       "      <td>54</td>\n",
       "      <td>0</td>\n",
       "      <td>1</td>\n",
       "      <td>0</td>\n",
       "      <td>2</td>\n",
       "      <td>2</td>\n",
       "      <td>4</td>\n",
       "    </tr>\n",
       "    <tr>\n",
       "      <th>796</th>\n",
       "      <td>35</td>\n",
       "      <td>64</td>\n",
       "      <td>0</td>\n",
       "      <td>1</td>\n",
       "      <td>1</td>\n",
       "      <td>2</td>\n",
       "      <td>3</td>\n",
       "      <td>8</td>\n",
       "    </tr>\n",
       "  </tbody>\n",
       "</table>\n",
       "</div>"
      ],
      "text/plain": [
       "             Age  Fare  FamilySize  Pclass  Sex  Embarked  Title  Deck\n",
       "PassengerId                                                           \n",
       "745           27    31           0       2    1         2      3     8\n",
       "659           19    64           0       1    1         2      3     8\n",
       "841           16    31           0       2    1         2      3     8\n",
       "718           23    54           0       1    0         2      2     4\n",
       "796           35    64           0       1    1         2      3     8"
      ]
     },
     "execution_count": 36,
     "metadata": {},
     "output_type": "execute_result"
    }
   ],
   "source": [
    "X_train_enc = X_train.apply(LabelEncoder().fit_transform)\n",
    "X_train_enc.head()"
   ]
  },
  {
   "cell_type": "code",
   "execution_count": 37,
   "id": "0e141349",
   "metadata": {
    "execution": {
     "iopub.execute_input": "2022-12-29T19:10:39.180868Z",
     "iopub.status.busy": "2022-12-29T19:10:39.180216Z",
     "iopub.status.idle": "2022-12-29T19:11:38.594153Z",
     "shell.execute_reply": "2022-12-29T19:11:38.592522Z"
    },
    "papermill": {
     "duration": 59.448854,
     "end_time": "2022-12-29T19:11:38.596870",
     "exception": false,
     "start_time": "2022-12-29T19:10:39.148016",
     "status": "completed"
    },
    "tags": []
   },
   "outputs": [
    {
     "data": {
      "application/vnd.jupyter.widget-view+json": {
       "model_id": "a2039b58081e498fa685ce9a5e025ae2",
       "version_major": 2,
       "version_minor": 0
      },
      "text/plain": [
       "MetricVisualizer(layout=Layout(align_self='stretch', height='500px'))"
      ]
     },
     "metadata": {},
     "output_type": "display_data"
    },
    {
     "name": "stdout",
     "output_type": "stream",
     "text": [
      "\n",
      "bestTest = 0.6184732402\n",
      "bestIteration = 4\n",
      "\n",
      "0:\tloss: 0.6184732\tbest: 0.6184732 (0)\ttotal: 106ms\tremaining: 10.5s\n",
      "\n",
      "bestTest = 0.5791740877\n",
      "bestIteration = 4\n",
      "\n",
      "1:\tloss: 0.5791741\tbest: 0.5791741 (1)\ttotal: 113ms\tremaining: 5.52s\n",
      "\n",
      "bestTest = 0.5114009811\n",
      "bestIteration = 4\n",
      "\n",
      "2:\tloss: 0.5114010\tbest: 0.5114010 (2)\ttotal: 120ms\tremaining: 3.89s\n",
      "\n",
      "bestTest = 0.4506144519\n",
      "bestIteration = 4\n",
      "\n",
      "3:\tloss: 0.4506145\tbest: 0.4506145 (3)\ttotal: 126ms\tremaining: 3.02s\n",
      "\n",
      "bestTest = 0.4288333064\n",
      "bestIteration = 2\n",
      "\n",
      "4:\tloss: 0.4288333\tbest: 0.4288333 (4)\ttotal: 132ms\tremaining: 2.51s\n",
      "\n",
      "bestTest = 0.5661032689\n",
      "bestIteration = 9\n",
      "\n",
      "5:\tloss: 0.5661033\tbest: 0.4288333 (4)\ttotal: 145ms\tremaining: 2.27s\n",
      "\n",
      "bestTest = 0.5185012742\n",
      "bestIteration = 9\n",
      "\n",
      "6:\tloss: 0.5185013\tbest: 0.4288333 (4)\ttotal: 157ms\tremaining: 2.08s\n",
      "\n",
      "bestTest = 0.4596624281\n",
      "bestIteration = 9\n",
      "\n",
      "7:\tloss: 0.4596624\tbest: 0.4288333 (4)\ttotal: 168ms\tremaining: 1.94s\n",
      "\n",
      "bestTest = 0.4363960604\n",
      "bestIteration = 6\n",
      "\n",
      "8:\tloss: 0.4363961\tbest: 0.4288333 (4)\ttotal: 180ms\tremaining: 1.82s\n",
      "\n",
      "bestTest = 0.4288333064\n",
      "bestIteration = 2\n",
      "\n",
      "9:\tloss: 0.4288333\tbest: 0.4288333 (4)\ttotal: 190ms\tremaining: 1.71s\n",
      "\n",
      "bestTest = 0.5259847204\n",
      "bestIteration = 14\n",
      "\n",
      "10:\tloss: 0.5259847\tbest: 0.4288333 (4)\ttotal: 206ms\tremaining: 1.67s\n",
      "\n",
      "bestTest = 0.4831180435\n",
      "bestIteration = 14\n",
      "\n",
      "11:\tloss: 0.4831180\tbest: 0.4288333 (4)\ttotal: 221ms\tremaining: 1.62s\n",
      "\n",
      "bestTest = 0.442948667\n",
      "bestIteration = 14\n",
      "\n",
      "12:\tloss: 0.4429487\tbest: 0.4288333 (4)\ttotal: 235ms\tremaining: 1.57s\n",
      "\n",
      "bestTest = 0.4260052661\n",
      "bestIteration = 14\n",
      "\n",
      "13:\tloss: 0.4260053\tbest: 0.4260053 (13)\ttotal: 251ms\tremaining: 1.54s\n",
      "\n",
      "bestTest = 0.4288333064\n",
      "bestIteration = 2\n",
      "\n",
      "14:\tloss: 0.4288333\tbest: 0.4260053 (13)\ttotal: 268ms\tremaining: 1.52s\n",
      "\n",
      "bestTest = 0.4979794956\n",
      "bestIteration = 19\n",
      "\n",
      "15:\tloss: 0.4979795\tbest: 0.4260053 (13)\ttotal: 290ms\tremaining: 1.52s\n",
      "\n",
      "bestTest = 0.4580934623\n",
      "bestIteration = 19\n",
      "\n",
      "16:\tloss: 0.4580935\tbest: 0.4260053 (13)\ttotal: 316ms\tremaining: 1.54s\n",
      "\n",
      "bestTest = 0.4409408573\n",
      "bestIteration = 19\n",
      "\n",
      "17:\tloss: 0.4409409\tbest: 0.4260053 (13)\ttotal: 338ms\tremaining: 1.54s\n",
      "\n",
      "bestTest = 0.4260052661\n",
      "bestIteration = 14\n",
      "\n",
      "18:\tloss: 0.4260053\tbest: 0.4260053 (13)\ttotal: 358ms\tremaining: 1.52s\n",
      "\n",
      "bestTest = 0.4288333064\n",
      "bestIteration = 2\n",
      "\n",
      "19:\tloss: 0.4288333\tbest: 0.4260053 (13)\ttotal: 379ms\tremaining: 1.51s\n",
      "\n",
      "bestTest = 0.4473253252\n",
      "bestIteration = 49\n",
      "\n",
      "20:\tloss: 0.4473253\tbest: 0.4260053 (13)\ttotal: 428ms\tremaining: 1.61s\n",
      "\n",
      "bestTest = 0.4351146954\n",
      "bestIteration = 38\n",
      "\n",
      "21:\tloss: 0.4351147\tbest: 0.4260053 (13)\ttotal: 476ms\tremaining: 1.69s\n",
      "\n",
      "bestTest = 0.4409408573\n",
      "bestIteration = 19\n",
      "\n",
      "22:\tloss: 0.4409409\tbest: 0.4260053 (13)\ttotal: 527ms\tremaining: 1.76s\n",
      "\n",
      "bestTest = 0.4260052661\n",
      "bestIteration = 14\n",
      "\n",
      "23:\tloss: 0.4260053\tbest: 0.4260053 (13)\ttotal: 579ms\tremaining: 1.83s\n",
      "\n",
      "bestTest = 0.4288333064\n",
      "bestIteration = 2\n",
      "\n",
      "24:\tloss: 0.4288333\tbest: 0.4260053 (13)\ttotal: 625ms\tremaining: 1.87s\n",
      "\n",
      "bestTest = 0.6116099278\n",
      "bestIteration = 4\n",
      "\n",
      "25:\tloss: 0.6116099\tbest: 0.4260053 (13)\ttotal: 633ms\tremaining: 1.8s\n",
      "\n",
      "bestTest = 0.5725742492\n",
      "bestIteration = 4\n",
      "\n",
      "26:\tloss: 0.5725742\tbest: 0.4260053 (13)\ttotal: 640ms\tremaining: 1.73s\n",
      "\n",
      "bestTest = 0.5063428055\n",
      "bestIteration = 4\n",
      "\n",
      "27:\tloss: 0.5063428\tbest: 0.4260053 (13)\ttotal: 648ms\tremaining: 1.67s\n",
      "\n",
      "bestTest = 0.4450540879\n",
      "bestIteration = 4\n",
      "\n",
      "28:\tloss: 0.4450541\tbest: 0.4260053 (13)\ttotal: 655ms\tremaining: 1.6s\n",
      "\n",
      "bestTest = 0.4160750058\n",
      "bestIteration = 3\n",
      "\n",
      "29:\tloss: 0.4160750\tbest: 0.4160750 (29)\ttotal: 662ms\tremaining: 1.54s\n",
      "\n",
      "bestTest = 0.5599114799\n",
      "bestIteration = 9\n",
      "\n",
      "30:\tloss: 0.5599115\tbest: 0.4160750 (29)\ttotal: 675ms\tremaining: 1.5s\n",
      "\n",
      "bestTest = 0.5113069164\n",
      "bestIteration = 9\n",
      "\n",
      "31:\tloss: 0.5113069\tbest: 0.4160750 (29)\ttotal: 687ms\tremaining: 1.46s\n",
      "\n",
      "bestTest = 0.453608203\n",
      "bestIteration = 9\n",
      "\n",
      "32:\tloss: 0.4536082\tbest: 0.4160750 (29)\ttotal: 701ms\tremaining: 1.42s\n",
      "\n",
      "bestTest = 0.4267873627\n",
      "bestIteration = 9\n",
      "\n",
      "33:\tloss: 0.4267874\tbest: 0.4160750 (29)\ttotal: 716ms\tremaining: 1.39s\n",
      "\n",
      "bestTest = 0.4160750058\n",
      "bestIteration = 3\n",
      "\n",
      "34:\tloss: 0.4160750\tbest: 0.4160750 (29)\ttotal: 732ms\tremaining: 1.36s\n",
      "\n",
      "bestTest = 0.5194066154\n",
      "bestIteration = 14\n",
      "\n",
      "35:\tloss: 0.5194066\tbest: 0.4160750 (29)\ttotal: 752ms\tremaining: 1.34s\n",
      "\n",
      "bestTest = 0.4746667044\n",
      "bestIteration = 14\n",
      "\n",
      "36:\tloss: 0.4746667\tbest: 0.4160750 (29)\ttotal: 774ms\tremaining: 1.32s\n",
      "\n",
      "bestTest = 0.4352708063\n",
      "bestIteration = 14\n",
      "\n",
      "37:\tloss: 0.4352708\tbest: 0.4160750 (29)\ttotal: 794ms\tremaining: 1.3s\n",
      "\n",
      "bestTest = 0.4267524927\n",
      "bestIteration = 10\n",
      "\n",
      "38:\tloss: 0.4267525\tbest: 0.4160750 (29)\ttotal: 815ms\tremaining: 1.27s\n",
      "\n",
      "bestTest = 0.4160750058\n",
      "bestIteration = 3\n",
      "\n",
      "39:\tloss: 0.4160750\tbest: 0.4160750 (29)\ttotal: 835ms\tremaining: 1.25s\n",
      "\n",
      "bestTest = 0.4941089344\n",
      "bestIteration = 19\n",
      "\n",
      "40:\tloss: 0.4941089\tbest: 0.4160750 (29)\ttotal: 858ms\tremaining: 1.23s\n",
      "\n",
      "bestTest = 0.4549242132\n",
      "bestIteration = 19\n",
      "\n",
      "41:\tloss: 0.4549242\tbest: 0.4160750 (29)\ttotal: 888ms\tremaining: 1.23s\n",
      "\n",
      "bestTest = 0.4352708063\n",
      "bestIteration = 14\n",
      "\n",
      "42:\tloss: 0.4352708\tbest: 0.4160750 (29)\ttotal: 916ms\tremaining: 1.21s\n",
      "\n",
      "bestTest = 0.4267524927\n",
      "bestIteration = 10\n",
      "\n",
      "43:\tloss: 0.4267525\tbest: 0.4160750 (29)\ttotal: 951ms\tremaining: 1.21s\n",
      "\n",
      "bestTest = 0.4160750058\n",
      "bestIteration = 3\n",
      "\n",
      "44:\tloss: 0.4160750\tbest: 0.4160750 (29)\ttotal: 991ms\tremaining: 1.21s\n",
      "\n",
      "bestTest = 0.4373667677\n",
      "bestIteration = 49\n",
      "\n",
      "45:\tloss: 0.4373668\tbest: 0.4160750 (29)\ttotal: 1.06s\tremaining: 1.24s\n",
      "\n",
      "bestTest = 0.4259933758\n",
      "bestIteration = 40\n",
      "\n",
      "46:\tloss: 0.4259934\tbest: 0.4160750 (29)\ttotal: 1.12s\tremaining: 1.26s\n",
      "\n",
      "bestTest = 0.4254730316\n",
      "bestIteration = 27\n",
      "\n",
      "47:\tloss: 0.4254730\tbest: 0.4160750 (29)\ttotal: 1.19s\tremaining: 1.29s\n",
      "\n",
      "bestTest = 0.4267524927\n",
      "bestIteration = 10\n",
      "\n",
      "48:\tloss: 0.4267525\tbest: 0.4160750 (29)\ttotal: 1.26s\tremaining: 1.31s\n",
      "\n",
      "bestTest = 0.4160750058\n",
      "bestIteration = 3\n",
      "\n",
      "49:\tloss: 0.4160750\tbest: 0.4160750 (29)\ttotal: 1.33s\tremaining: 1.33s\n",
      "\n",
      "bestTest = 0.6117985204\n",
      "bestIteration = 4\n",
      "\n",
      "50:\tloss: 0.6117985\tbest: 0.4160750 (29)\ttotal: 1.35s\tremaining: 1.3s\n",
      "\n",
      "bestTest = 0.5757138929\n",
      "bestIteration = 4\n",
      "\n",
      "51:\tloss: 0.5757139\tbest: 0.4160750 (29)\ttotal: 1.37s\tremaining: 1.27s\n",
      "\n",
      "bestTest = 0.508491783\n",
      "bestIteration = 4\n",
      "\n",
      "52:\tloss: 0.5084918\tbest: 0.4160750 (29)\ttotal: 1.39s\tremaining: 1.23s\n",
      "\n",
      "bestTest = 0.4431682866\n",
      "bestIteration = 4\n",
      "\n",
      "53:\tloss: 0.4431683\tbest: 0.4160750 (29)\ttotal: 1.41s\tremaining: 1.2s\n",
      "\n",
      "bestTest = 0.4339895923\n",
      "bestIteration = 2\n",
      "\n",
      "54:\tloss: 0.4339896\tbest: 0.4160750 (29)\ttotal: 1.44s\tremaining: 1.18s\n",
      "\n",
      "bestTest = 0.5550978712\n",
      "bestIteration = 9\n",
      "\n",
      "55:\tloss: 0.5550979\tbest: 0.4160750 (29)\ttotal: 1.47s\tremaining: 1.15s\n",
      "\n",
      "bestTest = 0.5112660305\n",
      "bestIteration = 9\n",
      "\n",
      "56:\tloss: 0.5112660\tbest: 0.4160750 (29)\ttotal: 1.5s\tremaining: 1.13s\n",
      "\n",
      "bestTest = 0.4549408544\n",
      "bestIteration = 9\n",
      "\n",
      "57:\tloss: 0.4549409\tbest: 0.4160750 (29)\ttotal: 1.53s\tremaining: 1.1s\n",
      "\n",
      "bestTest = 0.4280404704\n",
      "bestIteration = 8\n",
      "\n",
      "58:\tloss: 0.4280405\tbest: 0.4160750 (29)\ttotal: 1.56s\tremaining: 1.08s\n",
      "\n",
      "bestTest = 0.4339895923\n",
      "bestIteration = 2\n",
      "\n",
      "59:\tloss: 0.4339896\tbest: 0.4160750 (29)\ttotal: 1.62s\tremaining: 1.08s\n",
      "\n",
      "bestTest = 0.5175651947\n",
      "bestIteration = 14\n",
      "\n",
      "60:\tloss: 0.5175652\tbest: 0.4160750 (29)\ttotal: 1.68s\tremaining: 1.07s\n",
      "\n",
      "bestTest = 0.4755704242\n",
      "bestIteration = 14\n",
      "\n",
      "61:\tloss: 0.4755704\tbest: 0.4160750 (29)\ttotal: 1.72s\tremaining: 1.05s\n",
      "\n",
      "bestTest = 0.4410091237\n",
      "bestIteration = 14\n",
      "\n",
      "62:\tloss: 0.4410091\tbest: 0.4160750 (29)\ttotal: 1.77s\tremaining: 1.04s\n",
      "\n",
      "bestTest = 0.4280404704\n",
      "bestIteration = 8\n",
      "\n",
      "63:\tloss: 0.4280405\tbest: 0.4160750 (29)\ttotal: 1.82s\tremaining: 1.02s\n",
      "\n",
      "bestTest = 0.4339895923\n",
      "bestIteration = 2\n",
      "\n",
      "64:\tloss: 0.4339896\tbest: 0.4160750 (29)\ttotal: 1.89s\tremaining: 1.02s\n",
      "\n",
      "bestTest = 0.4878435897\n",
      "bestIteration = 19\n",
      "\n",
      "65:\tloss: 0.4878436\tbest: 0.4160750 (29)\ttotal: 1.95s\tremaining: 1.01s\n",
      "\n",
      "bestTest = 0.4519084318\n",
      "bestIteration = 19\n",
      "\n",
      "66:\tloss: 0.4519084\tbest: 0.4160750 (29)\ttotal: 2.03s\tremaining: 1s\n",
      "\n",
      "bestTest = 0.4332660801\n",
      "bestIteration = 19\n",
      "\n",
      "67:\tloss: 0.4332661\tbest: 0.4160750 (29)\ttotal: 2.1s\tremaining: 987ms\n",
      "\n",
      "bestTest = 0.4280404704\n",
      "bestIteration = 8\n",
      "\n",
      "68:\tloss: 0.4280405\tbest: 0.4160750 (29)\ttotal: 2.17s\tremaining: 974ms\n",
      "\n",
      "bestTest = 0.4339895923\n",
      "bestIteration = 2\n",
      "\n",
      "69:\tloss: 0.4339896\tbest: 0.4160750 (29)\ttotal: 2.24s\tremaining: 962ms\n",
      "\n",
      "bestTest = 0.4327536011\n",
      "bestIteration = 49\n",
      "\n",
      "70:\tloss: 0.4327536\tbest: 0.4160750 (29)\ttotal: 2.41s\tremaining: 983ms\n",
      "\n",
      "bestTest = 0.4282709582\n",
      "bestIteration = 42\n",
      "\n",
      "71:\tloss: 0.4282710\tbest: 0.4160750 (29)\ttotal: 2.56s\tremaining: 994ms\n",
      "\n",
      "bestTest = 0.4319440122\n",
      "bestIteration = 21\n",
      "\n",
      "72:\tloss: 0.4319440\tbest: 0.4160750 (29)\ttotal: 2.76s\tremaining: 1.02s\n",
      "\n",
      "bestTest = 0.4280404704\n",
      "bestIteration = 8\n",
      "\n",
      "73:\tloss: 0.4280405\tbest: 0.4160750 (29)\ttotal: 2.99s\tremaining: 1.05s\n",
      "\n",
      "bestTest = 0.4339895923\n",
      "bestIteration = 2\n",
      "\n",
      "74:\tloss: 0.4339896\tbest: 0.4160750 (29)\ttotal: 3.21s\tremaining: 1.07s\n",
      "\n",
      "bestTest = 0.6117985204\n",
      "bestIteration = 4\n",
      "\n",
      "75:\tloss: 0.6117985\tbest: 0.4160750 (29)\ttotal: 3.22s\tremaining: 1.02s\n",
      "\n",
      "bestTest = 0.5736164812\n",
      "bestIteration = 4\n",
      "\n",
      "76:\tloss: 0.5736165\tbest: 0.4160750 (29)\ttotal: 3.28s\tremaining: 980ms\n",
      "\n",
      "bestTest = 0.5035643933\n",
      "bestIteration = 4\n",
      "\n",
      "77:\tloss: 0.5035644\tbest: 0.4160750 (29)\ttotal: 3.33s\tremaining: 940ms\n",
      "\n",
      "bestTest = 0.4584376178\n",
      "bestIteration = 4\n",
      "\n",
      "78:\tloss: 0.4584376\tbest: 0.4160750 (29)\ttotal: 3.84s\tremaining: 1.02s\n",
      "\n",
      "bestTest = 0.451490244\n",
      "bestIteration = 2\n",
      "\n",
      "79:\tloss: 0.4514902\tbest: 0.4160750 (29)\ttotal: 4.75s\tremaining: 1.19s\n",
      "\n",
      "bestTest = 0.5550978712\n",
      "bestIteration = 9\n",
      "\n",
      "80:\tloss: 0.5550979\tbest: 0.4160750 (29)\ttotal: 4.78s\tremaining: 1.12s\n",
      "\n",
      "bestTest = 0.5062584237\n",
      "bestIteration = 9\n",
      "\n",
      "81:\tloss: 0.5062584\tbest: 0.4160750 (29)\ttotal: 4.89s\tremaining: 1.07s\n",
      "\n",
      "bestTest = 0.4464488847\n",
      "bestIteration = 9\n",
      "\n",
      "82:\tloss: 0.4464489\tbest: 0.4160750 (29)\ttotal: 5.41s\tremaining: 1.11s\n",
      "\n",
      "bestTest = 0.4361813108\n",
      "bestIteration = 8\n",
      "\n",
      "83:\tloss: 0.4361813\tbest: 0.4160750 (29)\ttotal: 6.3s\tremaining: 1.2s\n",
      "\n",
      "bestTest = 0.451490244\n",
      "bestIteration = 2\n",
      "\n",
      "84:\tloss: 0.4514902\tbest: 0.4160750 (29)\ttotal: 7.29s\tremaining: 1.28s\n",
      "\n",
      "bestTest = 0.5198253637\n",
      "bestIteration = 14\n",
      "\n",
      "85:\tloss: 0.5198254\tbest: 0.4160750 (29)\ttotal: 7.83s\tremaining: 1.27s\n",
      "\n",
      "bestTest = 0.4722162335\n",
      "bestIteration = 14\n",
      "\n",
      "86:\tloss: 0.4722162\tbest: 0.4160750 (29)\ttotal: 8.12s\tremaining: 1.21s\n",
      "\n",
      "bestTest = 0.4354821673\n",
      "bestIteration = 14\n",
      "\n",
      "87:\tloss: 0.4354822\tbest: 0.4160750 (29)\ttotal: 8.74s\tremaining: 1.19s\n",
      "\n",
      "bestTest = 0.4361813108\n",
      "bestIteration = 8\n",
      "\n",
      "88:\tloss: 0.4361813\tbest: 0.4160750 (29)\ttotal: 10.5s\tremaining: 1.29s\n",
      "\n",
      "bestTest = 0.451490244\n",
      "bestIteration = 2\n",
      "\n",
      "89:\tloss: 0.4514902\tbest: 0.4160750 (29)\ttotal: 13.2s\tremaining: 1.46s\n",
      "\n",
      "bestTest = 0.4955384633\n",
      "bestIteration = 19\n",
      "\n",
      "90:\tloss: 0.4955385\tbest: 0.4160750 (29)\ttotal: 14.1s\tremaining: 1.4s\n",
      "\n",
      "bestTest = 0.4505465945\n",
      "bestIteration = 19\n",
      "\n",
      "91:\tloss: 0.4505466\tbest: 0.4160750 (29)\ttotal: 14.8s\tremaining: 1.29s\n",
      "\n",
      "bestTest = 0.4354821673\n",
      "bestIteration = 14\n",
      "\n",
      "92:\tloss: 0.4354822\tbest: 0.4160750 (29)\ttotal: 15.5s\tremaining: 1.17s\n",
      "\n",
      "bestTest = 0.4361813108\n",
      "bestIteration = 8\n",
      "\n",
      "93:\tloss: 0.4361813\tbest: 0.4160750 (29)\ttotal: 17.7s\tremaining: 1.13s\n",
      "\n",
      "bestTest = 0.451490244\n",
      "bestIteration = 2\n",
      "\n",
      "94:\tloss: 0.4514902\tbest: 0.4160750 (29)\ttotal: 22.6s\tremaining: 1.19s\n",
      "\n",
      "bestTest = 0.4347502113\n",
      "bestIteration = 49\n",
      "\n",
      "95:\tloss: 0.4347502\tbest: 0.4160750 (29)\ttotal: 24.7s\tremaining: 1.03s\n",
      "\n",
      "bestTest = 0.4275918772\n",
      "bestIteration = 39\n",
      "\n",
      "96:\tloss: 0.4275919\tbest: 0.4160750 (29)\ttotal: 28.4s\tremaining: 879ms\n",
      "\n",
      "bestTest = 0.4354821673\n",
      "bestIteration = 14\n",
      "\n",
      "97:\tloss: 0.4354822\tbest: 0.4160750 (29)\ttotal: 32s\tremaining: 652ms\n",
      "\n",
      "bestTest = 0.4361813108\n",
      "bestIteration = 8\n",
      "\n",
      "98:\tloss: 0.4361813\tbest: 0.4160750 (29)\ttotal: 42.5s\tremaining: 430ms\n",
      "\n",
      "bestTest = 0.451490244\n",
      "bestIteration = 2\n",
      "\n",
      "99:\tloss: 0.4514902\tbest: 0.4160750 (29)\ttotal: 59.2s\tremaining: 0us\n",
      "Estimating final quality...\n",
      "Training on fold [0/3]\n",
      "\n",
      "bestTest = 0.4594139453\n",
      "bestIteration = 3\n",
      "\n",
      "Training on fold [1/3]\n",
      "\n",
      "bestTest = 0.384777262\n",
      "bestIteration = 4\n",
      "\n",
      "Training on fold [2/3]\n",
      "\n",
      "bestTest = 0.4427242504\n",
      "bestIteration = 2\n",
      "\n"
     ]
    }
   ],
   "source": [
    "model = CatBoostClassifier(verbose=0)\n",
    "\n",
    "grid = {'learning_rate': [0.03, 0.05, 0.1, 0.2, 0.5],\n",
    "        'depth': [4, 6, 10, 16],\n",
    "        'iterations': [5, 10, 15, 20, 50]}\n",
    "\n",
    "grid_search_result = model.grid_search(grid, \n",
    "                                       X=X_train_enc, \n",
    "                                       y=y_train, \n",
    "                                       plot=True)"
   ]
  },
  {
   "cell_type": "code",
   "execution_count": 38,
   "id": "1d8b63ac",
   "metadata": {
    "execution": {
     "iopub.execute_input": "2022-12-29T19:11:38.661748Z",
     "iopub.status.busy": "2022-12-29T19:11:38.660584Z",
     "iopub.status.idle": "2022-12-29T19:11:38.670474Z",
     "shell.execute_reply": "2022-12-29T19:11:38.668638Z"
    },
    "papermill": {
     "duration": 0.044933,
     "end_time": "2022-12-29T19:11:38.672978",
     "exception": false,
     "start_time": "2022-12-29T19:11:38.628045",
     "status": "completed"
    },
    "tags": []
   },
   "outputs": [
    {
     "name": "stdout",
     "output_type": "stream",
     "text": [
      " Results from Grid Search \n"
     ]
    },
    {
     "data": {
      "text/plain": [
       "{'params': {'depth': 6, 'iterations': 5, 'learning_rate': 0.5},\n",
       " 'cv_results': defaultdict(list,\n",
       "             {'iterations': [0, 1, 2, 3, 4],\n",
       "              'test-Logloss-mean': [0.5124317205760773,\n",
       "               0.4479984382657025,\n",
       "               0.4410260416584753,\n",
       "               0.43284013491376944,\n",
       "               0.4351461224699709],\n",
       "              'test-Logloss-std': [0.03664306399347675,\n",
       "               0.03110707557634716,\n",
       "               0.031112682033890223,\n",
       "               0.03743399862821903,\n",
       "               0.043831110409783214],\n",
       "              'train-Logloss-mean': [0.5072757415440918,\n",
       "               0.41724834217442774,\n",
       "               0.3848318346318349,\n",
       "               0.3649348590389138,\n",
       "               0.35075907903545867],\n",
       "              'train-Logloss-std': [0.035920131191357466,\n",
       "               0.029508250195289736,\n",
       "               0.034270168888837306,\n",
       "               0.027745607665575198,\n",
       "               0.024846321291792386]})}"
      ]
     },
     "execution_count": 38,
     "metadata": {},
     "output_type": "execute_result"
    }
   ],
   "source": [
    "print(\" Results from Grid Search \" )\n",
    "grid_search_result"
   ]
  },
  {
   "cell_type": "code",
   "execution_count": 39,
   "id": "0da8fe2b",
   "metadata": {
    "execution": {
     "iopub.execute_input": "2022-12-29T19:11:38.738968Z",
     "iopub.status.busy": "2022-12-29T19:11:38.738335Z",
     "iopub.status.idle": "2022-12-29T19:11:38.745945Z",
     "shell.execute_reply": "2022-12-29T19:11:38.744754Z"
    },
    "papermill": {
     "duration": 0.044235,
     "end_time": "2022-12-29T19:11:38.748250",
     "exception": false,
     "start_time": "2022-12-29T19:11:38.704015",
     "status": "completed"
    },
    "tags": []
   },
   "outputs": [
    {
     "data": {
      "text/plain": [
       "{'depth': 6, 'iterations': 5, 'learning_rate': 0.5}"
      ]
     },
     "execution_count": 39,
     "metadata": {},
     "output_type": "execute_result"
    }
   ],
   "source": [
    "grid_search_result['params']"
   ]
  },
  {
   "cell_type": "code",
   "execution_count": 40,
   "id": "127ce063",
   "metadata": {
    "execution": {
     "iopub.execute_input": "2022-12-29T19:11:38.814908Z",
     "iopub.status.busy": "2022-12-29T19:11:38.814498Z",
     "iopub.status.idle": "2022-12-29T19:11:38.820037Z",
     "shell.execute_reply": "2022-12-29T19:11:38.818756Z"
    },
    "papermill": {
     "duration": 0.040668,
     "end_time": "2022-12-29T19:11:38.822463",
     "exception": false,
     "start_time": "2022-12-29T19:11:38.781795",
     "status": "completed"
    },
    "tags": []
   },
   "outputs": [],
   "source": [
    "cat_index = [X_scaled.columns.get_loc(i) for i in [\"Sex\",\"Embarked\",\"Title\",\"Deck\"]]"
   ]
  },
  {
   "cell_type": "code",
   "execution_count": 41,
   "id": "cbac66d4",
   "metadata": {
    "execution": {
     "iopub.execute_input": "2022-12-29T19:11:38.887610Z",
     "iopub.status.busy": "2022-12-29T19:11:38.886885Z",
     "iopub.status.idle": "2022-12-29T19:11:38.892928Z",
     "shell.execute_reply": "2022-12-29T19:11:38.891745Z"
    },
    "papermill": {
     "duration": 0.042097,
     "end_time": "2022-12-29T19:11:38.895419",
     "exception": false,
     "start_time": "2022-12-29T19:11:38.853322",
     "status": "completed"
    },
    "tags": []
   },
   "outputs": [],
   "source": [
    "model = CatBoostClassifier(iterations=5, learning_rate=0.5, depth=6, verbose=10)"
   ]
  },
  {
   "cell_type": "code",
   "execution_count": 42,
   "id": "c28d58f9",
   "metadata": {
    "execution": {
     "iopub.execute_input": "2022-12-29T19:11:38.960302Z",
     "iopub.status.busy": "2022-12-29T19:11:38.959492Z",
     "iopub.status.idle": "2022-12-29T19:11:39.022241Z",
     "shell.execute_reply": "2022-12-29T19:11:39.020115Z"
    },
    "papermill": {
     "duration": 0.098054,
     "end_time": "2022-12-29T19:11:39.024977",
     "exception": false,
     "start_time": "2022-12-29T19:11:38.926923",
     "status": "completed"
    },
    "tags": []
   },
   "outputs": [
    {
     "name": "stdout",
     "output_type": "stream",
     "text": [
      "0:\tlearn: 0.5540404\ttotal: 4.45ms\tremaining: 17.8ms\n",
      "4:\tlearn: 0.4097471\ttotal: 10.3ms\tremaining: 0us\n",
      "CPU times: user 27.3 ms, sys: 11.6 ms, total: 38.9 ms\n",
      "Wall time: 50.2 ms\n"
     ]
    },
    {
     "data": {
      "text/plain": [
       "<catboost.core.CatBoostClassifier at 0x7f62b27239d0>"
      ]
     },
     "execution_count": 42,
     "metadata": {},
     "output_type": "execute_result"
    }
   ],
   "source": [
    "%%time\n",
    "model.fit(X_train, y_train, cat_index)"
   ]
  },
  {
   "cell_type": "code",
   "execution_count": 43,
   "id": "ef316ca2",
   "metadata": {
    "execution": {
     "iopub.execute_input": "2022-12-29T19:11:39.094379Z",
     "iopub.status.busy": "2022-12-29T19:11:39.093188Z",
     "iopub.status.idle": "2022-12-29T19:11:39.107103Z",
     "shell.execute_reply": "2022-12-29T19:11:39.105213Z"
    },
    "papermill": {
     "duration": 0.051553,
     "end_time": "2022-12-29T19:11:39.110521",
     "exception": false,
     "start_time": "2022-12-29T19:11:39.058968",
     "status": "completed"
    },
    "tags": []
   },
   "outputs": [
    {
     "name": "stdout",
     "output_type": "stream",
     "text": [
      "CPU times: user 3.63 ms, sys: 1.4 ms, total: 5.03 ms\n",
      "Wall time: 6.37 ms\n"
     ]
    }
   ],
   "source": [
    "%%time\n",
    "y_pred = model.predict(X_test)"
   ]
  },
  {
   "cell_type": "code",
   "execution_count": 44,
   "id": "b46796ce",
   "metadata": {
    "execution": {
     "iopub.execute_input": "2022-12-29T19:11:39.175404Z",
     "iopub.status.busy": "2022-12-29T19:11:39.174988Z",
     "iopub.status.idle": "2022-12-29T19:11:39.182458Z",
     "shell.execute_reply": "2022-12-29T19:11:39.181072Z"
    },
    "papermill": {
     "duration": 0.043798,
     "end_time": "2022-12-29T19:11:39.186012",
     "exception": false,
     "start_time": "2022-12-29T19:11:39.142214",
     "status": "completed"
    },
    "tags": []
   },
   "outputs": [
    {
     "name": "stdout",
     "output_type": "stream",
     "text": [
      "CPU times: user 1.91 ms, sys: 537 µs, total: 2.45 ms\n",
      "Wall time: 1.38 ms\n"
     ]
    }
   ],
   "source": [
    "%%time\n",
    "# Get predicted probabilities for each class\n",
    "preds_proba = model.predict_proba(X_test)"
   ]
  },
  {
   "cell_type": "code",
   "execution_count": 45,
   "id": "1ac7f17b",
   "metadata": {
    "execution": {
     "iopub.execute_input": "2022-12-29T19:11:39.255602Z",
     "iopub.status.busy": "2022-12-29T19:11:39.255225Z",
     "iopub.status.idle": "2022-12-29T19:11:39.262260Z",
     "shell.execute_reply": "2022-12-29T19:11:39.261074Z"
    },
    "papermill": {
     "duration": 0.045914,
     "end_time": "2022-12-29T19:11:39.265288",
     "exception": false,
     "start_time": "2022-12-29T19:11:39.219374",
     "status": "completed"
    },
    "tags": []
   },
   "outputs": [
    {
     "name": "stdout",
     "output_type": "stream",
     "text": [
      "CPU times: user 1.38 ms, sys: 223 µs, total: 1.6 ms\n",
      "Wall time: 1.06 ms\n"
     ]
    }
   ],
   "source": [
    "%%time\n",
    "# Get predicted RawFormulaVal\n",
    "preds_raw = model.predict(X_test, prediction_type='RawFormulaVal')"
   ]
  },
  {
   "cell_type": "code",
   "execution_count": 46,
   "id": "eb28f989",
   "metadata": {
    "execution": {
     "iopub.execute_input": "2022-12-29T19:11:39.336095Z",
     "iopub.status.busy": "2022-12-29T19:11:39.335659Z",
     "iopub.status.idle": "2022-12-29T19:11:39.349189Z",
     "shell.execute_reply": "2022-12-29T19:11:39.347388Z"
    },
    "papermill": {
     "duration": 0.053318,
     "end_time": "2022-12-29T19:11:39.352844",
     "exception": false,
     "start_time": "2022-12-29T19:11:39.299526",
     "status": "completed"
    },
    "tags": []
   },
   "outputs": [
    {
     "name": "stdout",
     "output_type": "stream",
     "text": [
      "Accuracy: 81.29%\n",
      "Precision: 82.83%\n",
      "Recall: 68.33%\n",
      "CPU times: user 4.69 ms, sys: 1.82 ms, total: 6.52 ms\n",
      "Wall time: 5.85 ms\n"
     ]
    }
   ],
   "source": [
    "%%time\n",
    "# evaluate predictions\n",
    "accuracy = accuracy_score(y_test, y_pred)\n",
    "precision = precision_score(y_test, y_pred)\n",
    "recall = recall_score(y_test, y_pred)\n",
    "\n",
    "print(\"Accuracy: %.2f%%\" % (accuracy * 100.0))\n",
    "print(\"Precision: %.2f%%\" % (precision * 100.0))\n",
    "print(\"Recall: %.2f%%\" % (recall * 100.0))"
   ]
  },
  {
   "cell_type": "code",
   "execution_count": 47,
   "id": "10c65a72",
   "metadata": {
    "execution": {
     "iopub.execute_input": "2022-12-29T19:11:39.424881Z",
     "iopub.status.busy": "2022-12-29T19:11:39.424404Z",
     "iopub.status.idle": "2022-12-29T19:11:39.437758Z",
     "shell.execute_reply": "2022-12-29T19:11:39.436030Z"
    },
    "papermill": {
     "duration": 0.054025,
     "end_time": "2022-12-29T19:11:39.440947",
     "exception": false,
     "start_time": "2022-12-29T19:11:39.386922",
     "status": "completed"
    },
    "tags": []
   },
   "outputs": [
    {
     "data": {
      "text/plain": [
       "array([[157,  17],\n",
       "       [ 38,  82]])"
      ]
     },
     "execution_count": 47,
     "metadata": {},
     "output_type": "execute_result"
    }
   ],
   "source": [
    "cm = confusion_matrix(y_test, y_pred)\n",
    "cm"
   ]
  },
  {
   "cell_type": "code",
   "execution_count": 48,
   "id": "af234ad1",
   "metadata": {
    "execution": {
     "iopub.execute_input": "2022-12-29T19:11:39.508766Z",
     "iopub.status.busy": "2022-12-29T19:11:39.507471Z",
     "iopub.status.idle": "2022-12-29T19:11:39.759131Z",
     "shell.execute_reply": "2022-12-29T19:11:39.757278Z"
    },
    "papermill": {
     "duration": 0.289195,
     "end_time": "2022-12-29T19:11:39.761987",
     "exception": false,
     "start_time": "2022-12-29T19:11:39.472792",
     "status": "completed"
    },
    "tags": []
   },
   "outputs": [
    {
     "data": {
      "image/png": "[encoded data removed]",
      "text/plain": [
       "<Figure size 432x288 with 2 Axes>"
      ]
     },
     "metadata": {},
     "output_type": "display_data"
    }
   ],
   "source": [
    "color = 'black'\n",
    "matrix = plot_confusion_matrix(model, X_test, y_test, cmap=plt.cm.Blues)\n",
    "matrix.ax_.set_title('Confusion Matrix', color=color)\n",
    "plt.xlabel('Predicted Label', color=color)\n",
    "plt.ylabel('True Label', color=color)\n",
    "plt.gcf().axes[0].tick_params(colors=color)\n",
    "plt.gcf().axes[1].tick_params(colors=color)\n",
    "plt.show()"
   ]
  },
  {
   "cell_type": "markdown",
   "id": "14b728ad",
   "metadata": {
    "papermill": {
     "duration": 0.031697,
     "end_time": "2022-12-29T19:11:39.825804",
     "exception": false,
     "start_time": "2022-12-29T19:11:39.794107",
     "status": "completed"
    },
    "tags": []
   },
   "source": [
    "<a id='Predict phase'></a>\n",
    "\n",
    "#### Predict phase"
   ]
  },
  {
   "cell_type": "code",
   "execution_count": 49,
   "id": "fd60839c",
   "metadata": {
    "execution": {
     "iopub.execute_input": "2022-12-29T19:11:39.891910Z",
     "iopub.status.busy": "2022-12-29T19:11:39.891363Z",
     "iopub.status.idle": "2022-12-29T19:11:39.952168Z",
     "shell.execute_reply": "2022-12-29T19:11:39.950831Z"
    },
    "papermill": {
     "duration": 0.097246,
     "end_time": "2022-12-29T19:11:39.954723",
     "exception": false,
     "start_time": "2022-12-29T19:11:39.857477",
     "status": "completed"
    },
    "tags": []
   },
   "outputs": [
    {
     "name": "stdout",
     "output_type": "stream",
     "text": [
      "0:\tlearn: 0.5498123\ttotal: 2.05ms\tremaining: 8.2ms\n",
      "4:\tlearn: 0.4182784\ttotal: 10ms\tremaining: 0us\n"
     ]
    },
    {
     "data": {
      "text/plain": [
       "<catboost.core.CatBoostClassifier at 0x7f62afaac290>"
      ]
     },
     "execution_count": 49,
     "metadata": {},
     "output_type": "execute_result"
    }
   ],
   "source": [
    "model = CatBoostClassifier(iterations=5, learning_rate=0.5, depth=6, verbose=10)\n",
    "model.fit(X_scaled, Y, cat_index)"
   ]
  },
  {
   "cell_type": "markdown",
   "id": "9cee8bc8",
   "metadata": {
    "papermill": {
     "duration": 0.034252,
     "end_time": "2022-12-29T19:11:40.021318",
     "exception": false,
     "start_time": "2022-12-29T19:11:39.987066",
     "status": "completed"
    },
    "tags": []
   },
   "source": [
    "- Preparing test data:"
   ]
  },
  {
   "cell_type": "code",
   "execution_count": 50,
   "id": "3807fd2c",
   "metadata": {
    "execution": {
     "iopub.execute_input": "2022-12-29T19:11:40.088547Z",
     "iopub.status.busy": "2022-12-29T19:11:40.088163Z",
     "iopub.status.idle": "2022-12-29T19:11:40.122294Z",
     "shell.execute_reply": "2022-12-29T19:11:40.121042Z"
    },
    "papermill": {
     "duration": 0.070419,
     "end_time": "2022-12-29T19:11:40.125267",
     "exception": false,
     "start_time": "2022-12-29T19:11:40.054848",
     "status": "completed"
    },
    "tags": []
   },
   "outputs": [],
   "source": [
    "test['PassengerId'] = test['PassengerId'].apply(str)\n",
    "test.dropna(subset=['Embarked'], inplace=True)\n",
    "test['Cabin'].fillna('Unknown', inplace = True)\n",
    "test.loc[test['Age'] <1, 'Age'] = 0\n",
    "test['Age'].fillna(0, inplace = True)\n",
    "temp = test['Name'].apply(lambda x: x.split(','))\n",
    "test['LastName'] = temp.apply(lambda x: x[0])\n",
    "temp = temp.apply(lambda x: x[1].split('.'))\n",
    "test['FirstName'] = temp.apply(lambda x: x[1][1:])\n",
    "test['Title'] = temp.apply(lambda x: x[0][1:])\n",
    "test.drop(columns=['Name'], inplace = True)\n",
    "test['Title']= test.apply(replace_titles, axis=1)\n",
    "cabin_list = ['A', 'B', 'C', 'D', 'E', 'F', 'T', 'G', 'Unknown']\n",
    "test['Deck']=test['Cabin'].map(lambda x: substrings_in_string(x, cabin_list))\n",
    "test['FamilySize']=test['SibSp']+test['Parch']\n",
    "test.drop(columns=['Parch', 'SibSp', 'Cabin', 'LastName', 'FirstName', 'Ticket'], inplace=True)\n",
    "test.head(3)\n",
    "test['Age'] = test['Age'].apply(int)\n",
    "test.set_index('PassengerId', inplace=True)"
   ]
  },
  {
   "cell_type": "code",
   "execution_count": 51,
   "id": "6c9afbbc",
   "metadata": {
    "execution": {
     "iopub.execute_input": "2022-12-29T19:11:40.194826Z",
     "iopub.status.busy": "2022-12-29T19:11:40.194420Z",
     "iopub.status.idle": "2022-12-29T19:11:40.763507Z",
     "shell.execute_reply": "2022-12-29T19:11:40.762535Z"
    },
    "papermill": {
     "duration": 0.607373,
     "end_time": "2022-12-29T19:11:40.765871",
     "exception": false,
     "start_time": "2022-12-29T19:11:40.158498",
     "status": "completed"
    },
    "tags": []
   },
   "outputs": [
    {
     "data": {
      "text/plain": [
       "<AxesSubplot:xlabel='Fare', ylabel='Density'>"
      ]
     },
     "execution_count": 51,
     "metadata": {},
     "output_type": "execute_result"
    },
    {
     "data": {
      "image/png": "[encoded data removed]",
      "text/plain": [
       "<Figure size 1440x360 with 2 Axes>"
      ]
     },
     "metadata": {},
     "output_type": "display_data"
    }
   ],
   "source": [
    "# Plot test distribution\n",
    "plt.figure(figsize=(20,5))\n",
    "\n",
    "plt.subplot(1,2,1)\n",
    "sns.distplot(test['Age'], color=(0.188,0.66,0.413))\n",
    "\n",
    "plt.subplot(1,2,2)\n",
    "sns.distplot(test['Fare'], color=(0.5,0,0.8))"
   ]
  },
  {
   "cell_type": "code",
   "execution_count": 52,
   "id": "67e8bb16",
   "metadata": {
    "execution": {
     "iopub.execute_input": "2022-12-29T19:11:40.836721Z",
     "iopub.status.busy": "2022-12-29T19:11:40.836306Z",
     "iopub.status.idle": "2022-12-29T19:11:41.352816Z",
     "shell.execute_reply": "2022-12-29T19:11:41.351937Z"
    },
    "papermill": {
     "duration": 0.55392,
     "end_time": "2022-12-29T19:11:41.355285",
     "exception": false,
     "start_time": "2022-12-29T19:11:40.801365",
     "status": "completed"
    },
    "scrolled": true,
    "tags": []
   },
   "outputs": [
    {
     "data": {
      "text/plain": [
       "<AxesSubplot:xlabel='Fare', ylabel='Density'>"
      ]
     },
     "execution_count": 52,
     "metadata": {},
     "output_type": "execute_result"
    },
    {
     "data": {
      "image/png": "[encoded data removed]",
      "text/plain": [
       "<Figure size 1440x360 with 2 Axes>"
      ]
     },
     "metadata": {},
     "output_type": "display_data"
    }
   ],
   "source": [
    "test_log = test.copy()\n",
    "test_log['Age'] = test_log['Age'].map(lambda i: np.log(i) if i > 0 else 0)\n",
    "test_log['Fare'] = test_log['Fare'].map(lambda i: np.log(i) if i > 0 else 0)\n",
    "\n",
    "plt.figure(figsize=(20,5))\n",
    "\n",
    "plt.subplot(1,2,1)\n",
    "sns.distplot(test_log['Age'], color=(0.188,0.66,0.413))\n",
    "\n",
    "plt.subplot(1,2,2)\n",
    "sns.distplot(test_log['Fare'], color=(0.5,0,0.8))"
   ]
  },
  {
   "cell_type": "code",
   "execution_count": 53,
   "id": "06bc0786",
   "metadata": {
    "execution": {
     "iopub.execute_input": "2022-12-29T19:11:41.432503Z",
     "iopub.status.busy": "2022-12-29T19:11:41.431792Z",
     "iopub.status.idle": "2022-12-29T19:11:41.445451Z",
     "shell.execute_reply": "2022-12-29T19:11:41.444454Z"
    },
    "papermill": {
     "duration": 0.055175,
     "end_time": "2022-12-29T19:11:41.447969",
     "exception": false,
     "start_time": "2022-12-29T19:11:41.392794",
     "status": "completed"
    },
    "tags": []
   },
   "outputs": [],
   "source": [
    "scaler = StandardScaler()\n",
    "test_scaled = scaler.fit_transform(test[[\"Age\",\"Fare\",\"FamilySize\", \"Pclass\"]])\n",
    "test_scaled = pd.DataFrame(test_scaled,columns=[\"Age\",\"Fare\",\"FamilySize\",\"Pclass\"], index=test.index)\n",
    "test_scaled = test_scaled.join(test.drop(columns=[\"Age\",\"Fare\",\"FamilySize\",\"Pclass\"]))"
   ]
  },
  {
   "cell_type": "code",
   "execution_count": 54,
   "id": "ff8d0aa7",
   "metadata": {
    "execution": {
     "iopub.execute_input": "2022-12-29T19:11:41.519310Z",
     "iopub.status.busy": "2022-12-29T19:11:41.518709Z",
     "iopub.status.idle": "2022-12-29T19:11:41.524117Z",
     "shell.execute_reply": "2022-12-29T19:11:41.522795Z"
    },
    "papermill": {
     "duration": 0.043447,
     "end_time": "2022-12-29T19:11:41.526416",
     "exception": false,
     "start_time": "2022-12-29T19:11:41.482969",
     "status": "completed"
    },
    "tags": []
   },
   "outputs": [],
   "source": [
    "# reorder column in case that they dont match with train set\n",
    "test_scaled = test_scaled[X_scaled.columns]"
   ]
  },
  {
   "cell_type": "code",
   "execution_count": 55,
   "id": "4cd50783",
   "metadata": {
    "execution": {
     "iopub.execute_input": "2022-12-29T19:11:41.604740Z",
     "iopub.status.busy": "2022-12-29T19:11:41.603859Z",
     "iopub.status.idle": "2022-12-29T19:11:41.615253Z",
     "shell.execute_reply": "2022-12-29T19:11:41.613481Z"
    },
    "papermill": {
     "duration": 0.054599,
     "end_time": "2022-12-29T19:11:41.618672",
     "exception": false,
     "start_time": "2022-12-29T19:11:41.564073",
     "status": "completed"
    },
    "tags": []
   },
   "outputs": [],
   "source": [
    "result = pd.DataFrame(model.predict(test_scaled), index=test_scaled.index, columns=['Survived']).reset_index()"
   ]
  },
  {
   "cell_type": "code",
   "execution_count": 56,
   "id": "baeb8b54",
   "metadata": {
    "execution": {
     "iopub.execute_input": "2022-12-29T19:11:41.692215Z",
     "iopub.status.busy": "2022-12-29T19:11:41.691724Z",
     "iopub.status.idle": "2022-12-29T19:11:41.702465Z",
     "shell.execute_reply": "2022-12-29T19:11:41.701047Z"
    },
    "papermill": {
     "duration": 0.051981,
     "end_time": "2022-12-29T19:11:41.705354",
     "exception": false,
     "start_time": "2022-12-29T19:11:41.653373",
     "status": "completed"
    },
    "tags": []
   },
   "outputs": [
    {
     "data": {
      "text/plain": [
       "0    254\n",
       "1    164\n",
       "Name: Survived, dtype: int64"
      ]
     },
     "execution_count": 56,
     "metadata": {},
     "output_type": "execute_result"
    }
   ],
   "source": [
    "result['Survived'].value_counts()"
   ]
  },
  {
   "cell_type": "code",
   "execution_count": 57,
   "id": "7708f965",
   "metadata": {
    "execution": {
     "iopub.execute_input": "2022-12-29T19:11:41.781636Z",
     "iopub.status.busy": "2022-12-29T19:11:41.780728Z",
     "iopub.status.idle": "2022-12-29T19:11:41.791160Z",
     "shell.execute_reply": "2022-12-29T19:11:41.789985Z"
    },
    "papermill": {
     "duration": 0.050106,
     "end_time": "2022-12-29T19:11:41.793812",
     "exception": false,
     "start_time": "2022-12-29T19:11:41.743706",
     "status": "completed"
    },
    "tags": []
   },
   "outputs": [],
   "source": [
    "result.to_csv(\"result.csv\",index=False)"
   ]
  },
  {
   "cell_type": "markdown",
   "id": "75beb28f",
   "metadata": {
    "papermill": {
     "duration": 0.035663,
     "end_time": "2022-12-29T19:11:41.867472",
     "exception": false,
     "start_time": "2022-12-29T19:11:41.831809",
     "status": "completed"
    },
    "tags": []
   },
   "source": [
    "<a id='2.3.2. XGBOOST'></a>\n",
    "### 2.3.2. XGBOOST"
   ]
  },
  {
   "cell_type": "code",
   "execution_count": 58,
   "id": "4b0717aa",
   "metadata": {
    "execution": {
     "iopub.execute_input": "2022-12-29T19:11:41.940405Z",
     "iopub.status.busy": "2022-12-29T19:11:41.940015Z",
     "iopub.status.idle": "2022-12-29T19:11:41.965773Z",
     "shell.execute_reply": "2022-12-29T19:11:41.964442Z"
    },
    "papermill": {
     "duration": 0.064677,
     "end_time": "2022-12-29T19:11:41.968936",
     "exception": false,
     "start_time": "2022-12-29T19:11:41.904259",
     "status": "completed"
    },
    "tags": []
   },
   "outputs": [],
   "source": [
    "X_scaled_enc = X_scaled.drop(columns=['Sex','Embarked', 'Title', 'Deck']).copy()\n",
    "for i in ['Sex','Embarked', 'Title', 'Deck']:\n",
    "    s = pd.get_dummies(X_scaled[i])\n",
    "    X_scaled_enc = X_scaled_enc.merge(s, on='PassengerId', how='inner')  \n",
    "    "
   ]
  },
  {
   "cell_type": "code",
   "execution_count": 59,
   "id": "744c5dc0",
   "metadata": {
    "execution": {
     "iopub.execute_input": "2022-12-29T19:11:42.044875Z",
     "iopub.status.busy": "2022-12-29T19:11:42.044440Z",
     "iopub.status.idle": "2022-12-29T19:11:42.052967Z",
     "shell.execute_reply": "2022-12-29T19:11:42.051954Z"
    },
    "papermill": {
     "duration": 0.048548,
     "end_time": "2022-12-29T19:11:42.055310",
     "exception": false,
     "start_time": "2022-12-29T19:11:42.006762",
     "status": "completed"
    },
    "tags": []
   },
   "outputs": [],
   "source": [
    "seed = 7\n",
    "test_size = 0.33\n",
    "X_train, X_test, y_train, y_test = train_test_split(X_scaled_enc, Y, test_size=test_size, random_state=seed)"
   ]
  },
  {
   "cell_type": "code",
   "execution_count": 60,
   "id": "51ab5dc6",
   "metadata": {
    "execution": {
     "iopub.execute_input": "2022-12-29T19:11:42.128758Z",
     "iopub.status.busy": "2022-12-29T19:11:42.128331Z",
     "iopub.status.idle": "2022-12-29T19:11:42.538839Z",
     "shell.execute_reply": "2022-12-29T19:11:42.537457Z"
    },
    "papermill": {
     "duration": 0.450226,
     "end_time": "2022-12-29T19:11:42.541412",
     "exception": false,
     "start_time": "2022-12-29T19:11:42.091186",
     "status": "completed"
    },
    "tags": []
   },
   "outputs": [
    {
     "data": {
      "text/plain": [
       "XGBClassifier(base_score=0.5, booster='gbtree', callbacks=None,\n",
       "              colsample_bylevel=1, colsample_bynode=1, colsample_bytree=1,\n",
       "              early_stopping_rounds=None, enable_categorical=False, eta=0.0001,\n",
       "              eval_metric=None, gamma=0, gpu_id=-1, grow_policy='depthwise',\n",
       "              importance_type=None, interaction_constraints='',\n",
       "              learning_rate=9.99999975e-05, max_bin=256, max_cat_to_onehot=4,\n",
       "              max_delta_step=0, max_depth=20, max_leaves=0, min_child_weight=1,\n",
       "              missing=nan, monotone_constraints='()', n_estimators=100,\n",
       "              n_jobs=4, nthread=4, num_parallel_tree=1, predictor='auto',\n",
       "              random_state=0, ...)"
      ]
     },
     "execution_count": 60,
     "metadata": {},
     "output_type": "execute_result"
    }
   ],
   "source": [
    "model = XGBClassifier()\n",
    "model = XGBClassifier(max_depth =20, eta= 0.0001, objective= 'binary:logistic',nthread= 4)\n",
    "model.fit(X_train, y_train, eval_metric='auc')"
   ]
  },
  {
   "cell_type": "code",
   "execution_count": 61,
   "id": "dbe44a21",
   "metadata": {
    "execution": {
     "iopub.execute_input": "2022-12-29T19:11:42.626854Z",
     "iopub.status.busy": "2022-12-29T19:11:42.625310Z",
     "iopub.status.idle": "2022-12-29T19:11:42.648283Z",
     "shell.execute_reply": "2022-12-29T19:11:42.644415Z"
    },
    "papermill": {
     "duration": 0.064544,
     "end_time": "2022-12-29T19:11:42.651160",
     "exception": false,
     "start_time": "2022-12-29T19:11:42.586616",
     "status": "completed"
    },
    "tags": []
   },
   "outputs": [
    {
     "name": "stdout",
     "output_type": "stream",
     "text": [
      "CPU times: user 18.7 ms, sys: 333 µs, total: 19.1 ms\n",
      "Wall time: 9.69 ms\n"
     ]
    }
   ],
   "source": [
    "%%time\n",
    "y_pred = model.predict(X_test)"
   ]
  },
  {
   "cell_type": "code",
   "execution_count": 62,
   "id": "6b3a5eb8",
   "metadata": {
    "execution": {
     "iopub.execute_input": "2022-12-29T19:11:42.724751Z",
     "iopub.status.busy": "2022-12-29T19:11:42.724313Z",
     "iopub.status.idle": "2022-12-29T19:11:42.736116Z",
     "shell.execute_reply": "2022-12-29T19:11:42.734760Z"
    },
    "papermill": {
     "duration": 0.050614,
     "end_time": "2022-12-29T19:11:42.738489",
     "exception": false,
     "start_time": "2022-12-29T19:11:42.687875",
     "status": "completed"
    },
    "tags": []
   },
   "outputs": [
    {
     "name": "stdout",
     "output_type": "stream",
     "text": [
      "Accuracy: 81.29%\n",
      "Precision: 77.31%\n",
      "Recall: 76.67%\n",
      "CPU times: user 4.98 ms, sys: 984 µs, total: 5.97 ms\n",
      "Wall time: 5.52 ms\n"
     ]
    }
   ],
   "source": [
    "%%time\n",
    "# evaluate predictions\n",
    "accuracy = accuracy_score(y_test, y_pred)\n",
    "precision = precision_score(y_test, y_pred)\n",
    "recall = recall_score(y_test, y_pred)\n",
    "\n",
    "print(\"Accuracy: %.2f%%\" % (accuracy * 100.0))\n",
    "print(\"Precision: %.2f%%\" % (precision * 100.0))\n",
    "print(\"Recall: %.2f%%\" % (recall * 100.0))"
   ]
  },
  {
   "cell_type": "code",
   "execution_count": 63,
   "id": "f428c57a",
   "metadata": {
    "execution": {
     "iopub.execute_input": "2022-12-29T19:11:42.811383Z",
     "iopub.status.busy": "2022-12-29T19:11:42.810983Z",
     "iopub.status.idle": "2022-12-29T19:11:43.060981Z",
     "shell.execute_reply": "2022-12-29T19:11:43.059666Z"
    },
    "papermill": {
     "duration": 0.290409,
     "end_time": "2022-12-29T19:11:43.063613",
     "exception": false,
     "start_time": "2022-12-29T19:11:42.773204",
     "status": "completed"
    },
    "tags": []
   },
   "outputs": [
    {
     "data": {
      "image/png": "[encoded data removed]",
      "text/plain": [
       "<Figure size 432x288 with 2 Axes>"
      ]
     },
     "metadata": {},
     "output_type": "display_data"
    }
   ],
   "source": [
    "color = 'black'\n",
    "matrix = plot_confusion_matrix(model, X_test, y_test, cmap=plt.cm.Blues)\n",
    "matrix.ax_.set_title('Confusion Matrix', color=color)\n",
    "plt.xlabel('Predicted Label', color=color)\n",
    "plt.ylabel('True Label', color=color)\n",
    "plt.gcf().axes[0].tick_params(colors=color)\n",
    "plt.gcf().axes[1].tick_params(colors=color)\n",
    "plt.show()"
   ]
  },
  {
   "cell_type": "markdown",
   "id": "38d209dc",
   "metadata": {
    "papermill": {
     "duration": 0.034756,
     "end_time": "2022-12-29T19:11:43.134612",
     "exception": false,
     "start_time": "2022-12-29T19:11:43.099856",
     "status": "completed"
    },
    "tags": []
   },
   "source": [
    "#### Predict phase"
   ]
  },
  {
   "cell_type": "code",
   "execution_count": 64,
   "id": "467a3597",
   "metadata": {
    "execution": {
     "iopub.execute_input": "2022-12-29T19:11:43.206052Z",
     "iopub.status.busy": "2022-12-29T19:11:43.205617Z",
     "iopub.status.idle": "2022-12-29T19:11:43.230588Z",
     "shell.execute_reply": "2022-12-29T19:11:43.229165Z"
    },
    "papermill": {
     "duration": 0.064094,
     "end_time": "2022-12-29T19:11:43.233348",
     "exception": false,
     "start_time": "2022-12-29T19:11:43.169254",
     "status": "completed"
    },
    "tags": []
   },
   "outputs": [],
   "source": [
    "X_test_scaled_enc = test_scaled.drop(columns=['Sex','Embarked', 'Title', 'Deck']).copy()\n",
    "for i in ['Sex','Embarked', 'Title', 'Deck']:\n",
    "    s = pd.get_dummies(test_scaled[i])\n",
    "    X_test_scaled_enc = X_test_scaled_enc.merge(s, on='PassengerId', how='inner')  "
   ]
  },
  {
   "cell_type": "code",
   "execution_count": 65,
   "id": "3699cdc7",
   "metadata": {
    "execution": {
     "iopub.execute_input": "2022-12-29T19:11:43.310297Z",
     "iopub.status.busy": "2022-12-29T19:11:43.309487Z",
     "iopub.status.idle": "2022-12-29T19:11:43.319861Z",
     "shell.execute_reply": "2022-12-29T19:11:43.318973Z"
    },
    "papermill": {
     "duration": 0.053338,
     "end_time": "2022-12-29T19:11:43.322923",
     "exception": false,
     "start_time": "2022-12-29T19:11:43.269585",
     "status": "completed"
    },
    "tags": []
   },
   "outputs": [],
   "source": [
    "a = np.intersect1d(X_test_scaled_enc.columns, X_scaled_enc.columns)\n",
    "b = list(set(X_scaled_enc).difference(X_test_scaled_enc))\n",
    "X_test_scaled_enc_filter = X_test_scaled_enc[a]\n",
    "X_test_scaled_enc_filter[b]=0\n",
    "X_test_scaled_enc_filter=X_test_scaled_enc_filter[X_scaled_enc.columns]"
   ]
  },
  {
   "cell_type": "code",
   "execution_count": 66,
   "id": "ece9b24b",
   "metadata": {
    "execution": {
     "iopub.execute_input": "2022-12-29T19:11:43.396110Z",
     "iopub.status.busy": "2022-12-29T19:11:43.395267Z",
     "iopub.status.idle": "2022-12-29T19:11:43.779955Z",
     "shell.execute_reply": "2022-12-29T19:11:43.778995Z"
    },
    "papermill": {
     "duration": 0.424059,
     "end_time": "2022-12-29T19:11:43.782644",
     "exception": false,
     "start_time": "2022-12-29T19:11:43.358585",
     "status": "completed"
    },
    "tags": []
   },
   "outputs": [
    {
     "name": "stdout",
     "output_type": "stream",
     "text": [
      "CPU times: user 1.46 s, sys: 7.5 ms, total: 1.47 s\n",
      "Wall time: 375 ms\n"
     ]
    }
   ],
   "source": [
    "%%time\n",
    "model.fit(X_scaled_enc, Y, eval_metric='auc')\n",
    "result_xgb = pd.DataFrame(model.predict(X_test_scaled_enc_filter), index=X_test_scaled_enc_filter.index, columns=['Survived']).reset_index()"
   ]
  },
  {
   "cell_type": "code",
   "execution_count": 67,
   "id": "a7e86fb9",
   "metadata": {
    "execution": {
     "iopub.execute_input": "2022-12-29T19:11:43.857643Z",
     "iopub.status.busy": "2022-12-29T19:11:43.857252Z",
     "iopub.status.idle": "2022-12-29T19:11:43.865445Z",
     "shell.execute_reply": "2022-12-29T19:11:43.864590Z"
    },
    "papermill": {
     "duration": 0.048082,
     "end_time": "2022-12-29T19:11:43.867600",
     "exception": false,
     "start_time": "2022-12-29T19:11:43.819518",
     "status": "completed"
    },
    "tags": []
   },
   "outputs": [
    {
     "data": {
      "text/plain": [
       "0    254\n",
       "1    164\n",
       "Name: Survived, dtype: int64"
      ]
     },
     "execution_count": 67,
     "metadata": {},
     "output_type": "execute_result"
    }
   ],
   "source": [
    "result_xgb['Survived'].value_counts()"
   ]
  },
  {
   "cell_type": "code",
   "execution_count": 68,
   "id": "f05b7bdc",
   "metadata": {
    "execution": {
     "iopub.execute_input": "2022-12-29T19:11:43.942408Z",
     "iopub.status.busy": "2022-12-29T19:11:43.941668Z",
     "iopub.status.idle": "2022-12-29T19:11:43.948321Z",
     "shell.execute_reply": "2022-12-29T19:11:43.946974Z"
    },
    "papermill": {
     "duration": 0.046942,
     "end_time": "2022-12-29T19:11:43.950652",
     "exception": false,
     "start_time": "2022-12-29T19:11:43.903710",
     "status": "completed"
    },
    "tags": []
   },
   "outputs": [],
   "source": [
    "result_xgb.to_csv(\"result_xgb.csv\",index=False)"
   ]
  }
 ],
 "metadata": {
  "kernelspec": {
   "display_name": "Python 3",
   "language": "python",
   "name": "python3"
  },
  "language_info": {
   "codemirror_mode": {
    "name": "ipython",
    "version": 3
   },
   "file_extension": ".py",
   "mimetype": "text/x-python",
   "name": "python",
   "nbconvert_exporter": "python",
   "pygments_lexer": "ipython3",
   "version": "3.7.12"
  },
  "papermill": {
   "default_parameters": {},
   "duration": 91.816437,
   "end_time": "2022-12-29T19:11:45.013706",
   "environment_variables": {},
   "exception": null,
   "input_path": "__notebook__.ipynb",
   "output_path": "__notebook__.ipynb",
   "parameters": {},
   "start_time": "2022-12-29T19:10:13.197269",
   "version": "2.3.4"
  },
  "widgets": {
   "application/vnd.jupyter.widget-state+json": {
    "state": {
     "a2039b58081e498fa685ce9a5e025ae2": {
      "model_module": "catboost-widget",
      "model_module_version": "^1.0.0",
      "model_name": "CatboostWidgetModel",
      "state": {
       "_dom_classes": [],
       "_model_module": "catboost-widget",
       "_model_module_version": "^1.0.0",
       "_model_name": "CatboostWidgetModel",
       "_view_count": null,
       "_view_module": "catboost-widget",
       "_view_module_version": "^1.0.0",
       "_view_name": "CatboostWidgetView",
       "data": {
        "catboost_info": {
         "content": {
          "data": {
           "iterations": [
            {
             "iteration": 0,
             "learn": [
              0.6132777879
             ],
             "parameters": [
              {
               "depth": 4,
               "iterations": 5,
               "learning_rate": 0.03
              }
             ],
             "passed_time": 0.1064048098,
             "remaining_time": 10.53407617,
             "test": [
              0.6184732402
             ]
            },
            {
             "iteration": 1,
             "learn": [
              0.5703807158
             ],
             "parameters": [
              {
               "depth": 4,
               "iterations": 5,
               "learning_rate": 0.05
              }
             ],
             "passed_time": 0.1127116061,
             "remaining_time": 5.5228687,
             "test": [
              0.5791740877
             ]
            },
            {
             "iteration": 2,
             "learn": [
              0.4953498199
             ],
             "parameters": [
              {
               "depth": 4,
               "iterations": 5,
               "learning_rate": 0.1
              }
             ],
             "passed_time": 0.1201918324,
             "remaining_time": 3.88620258,
             "test": [
              0.5114009811
             ]
            },
            {
             "iteration": 3,
             "learn": [
              0.424103232
             ],
             "parameters": [
              {
               "depth": 4,
               "iterations": 5,
               "learning_rate": 0.2
              }
             ],
             "passed_time": 0.1259706817,
             "remaining_time": 3.02329636,
             "test": [
              0.4506144519
             ]
            },
            {
             "iteration": 4,
             "learn": [
              0.377616113
             ],
             "parameters": [
              {
               "depth": 4,
               "iterations": 5,
               "learning_rate": 0.5
              }
             ],
             "passed_time": 0.1321045946,
             "remaining_time": 2.509987297,
             "test": [
              0.4288333064
             ]
            },
            {
             "iteration": 5,
             "learn": [
              0.5575566011
             ],
             "parameters": [
              {
               "depth": 4,
               "iterations": 10,
               "learning_rate": 0.03
              }
             ],
             "passed_time": 0.1451722842,
             "remaining_time": 2.274365785,
             "test": [
              0.5661032689
             ]
            },
            {
             "iteration": 6,
             "learn": [
              0.5046876859
             ],
             "parameters": [
              {
               "depth": 4,
               "iterations": 10,
               "learning_rate": 0.05
              }
             ],
             "passed_time": 0.1567746677,
             "remaining_time": 2.082863442,
             "test": [
              0.5185012742
             ]
            },
            {
             "iteration": 7,
             "learn": [
              0.4314125766
             ],
             "parameters": [
              {
               "depth": 4,
               "iterations": 10,
               "learning_rate": 0.1
              }
             ],
             "passed_time": 0.1683909808,
             "remaining_time": 1.936496279,
             "test": [
              0.4596624281
             ]
            },
            {
             "iteration": 8,
             "learn": [
              0.3895466268
             ],
             "parameters": [
              {
               "depth": 4,
               "iterations": 10,
               "learning_rate": 0.2
              }
             ],
             "passed_time": 0.1799924293,
             "remaining_time": 1.819923452,
             "test": [
              0.4363960604
             ]
            },
            {
             "iteration": 9,
             "learn": [
              0.3455615004
             ],
             "parameters": [
              {
               "depth": 4,
               "iterations": 10,
               "learning_rate": 0.5
              }
             ],
             "passed_time": 0.189855359,
             "remaining_time": 1.708698231,
             "test": [
              0.4288333064
             ]
            },
            {
             "iteration": 10,
             "learn": [
              0.5130996063
             ],
             "parameters": [
              {
               "depth": 4,
               "iterations": 15,
               "learning_rate": 0.03
              }
             ],
             "passed_time": 0.2059430673,
             "remaining_time": 1.666266635,
             "test": [
              0.5259847204
             ]
            },
            {
             "iteration": 11,
             "learn": [
              0.46264969
             ],
             "parameters": [
              {
               "depth": 4,
               "iterations": 15,
               "learning_rate": 0.05
              }
             ],
             "passed_time": 0.2211059598,
             "remaining_time": 1.621443705,
             "test": [
              0.4831180435
             ]
            },
            {
             "iteration": 12,
             "learn": [
              0.4033516635
             ],
             "parameters": [
              {
               "depth": 4,
               "iterations": 15,
               "learning_rate": 0.1
              }
             ],
             "passed_time": 0.2354414074,
             "remaining_time": 1.575646342,
             "test": [
              0.442948667
             ]
            },
            {
             "iteration": 13,
             "learn": [
              0.3636157252
             ],
             "parameters": [
              {
               "depth": 4,
               "iterations": 15,
               "learning_rate": 0.2
              }
             ],
             "passed_time": 0.2508213305,
             "remaining_time": 1.540759602,
             "test": [
              0.4260052661
             ]
            },
            {
             "iteration": 14,
             "learn": [
              0.3270825939
             ],
             "parameters": [
              {
               "depth": 4,
               "iterations": 15,
               "learning_rate": 0.5
              }
             ],
             "passed_time": 0.2682085704,
             "remaining_time": 1.519848565,
             "test": [
              0.4288333064
             ]
            },
            {
             "iteration": 15,
             "learn": [
              0.4799879699
             ],
             "parameters": [
              {
               "depth": 4,
               "iterations": 20,
               "learning_rate": 0.03
              }
             ],
             "passed_time": 0.2900908704,
             "remaining_time": 1.52297707,
             "test": [
              0.4979794956
             ]
            },
            {
             "iteration": 16,
             "learn": [
              0.4341400211
             ],
             "parameters": [
              {
               "depth": 4,
               "iterations": 20,
               "learning_rate": 0.05
              }
             ],
             "passed_time": 0.3159689261,
             "remaining_time": 1.542671816,
             "test": [
              0.4580934623
             ]
            },
            {
             "iteration": 17,
             "learn": [
              0.3882807884
             ],
             "parameters": [
              {
               "depth": 4,
               "iterations": 20,
               "learning_rate": 0.1
              }
             ],
             "passed_time": 0.3383223283,
             "remaining_time": 1.541246162,
             "test": [
              0.4409408573
             ]
            },
            {
             "iteration": 18,
             "learn": [
              0.3527115253
             ],
             "parameters": [
              {
               "depth": 4,
               "iterations": 20,
               "learning_rate": 0.2
              }
             ],
             "passed_time": 0.3576296634,
             "remaining_time": 1.524631723,
             "test": [
              0.4260052661
             ]
            },
            {
             "iteration": 19,
             "learn": [
              0.2954938873
             ],
             "parameters": [
              {
               "depth": 4,
               "iterations": 20,
               "learning_rate": 0.5
              }
             ],
             "passed_time": 0.3788059801,
             "remaining_time": 1.515223921,
             "test": [
              0.4288333064
             ]
            },
            {
             "iteration": 20,
             "learn": [
              0.4036056775
             ],
             "parameters": [
              {
               "depth": 4,
               "iterations": 50,
               "learning_rate": 0.03
              }
             ],
             "passed_time": 0.4281935613,
             "remaining_time": 1.610823397,
             "test": [
              0.4473253252
             ]
            },
            {
             "iteration": 21,
             "learn": [
              0.3743032247
             ],
             "parameters": [
              {
               "depth": 4,
               "iterations": 50,
               "learning_rate": 0.05
              }
             ],
             "passed_time": 0.4761470358,
             "remaining_time": 1.688157672,
             "test": [
              0.4351146954
             ]
            },
            {
             "iteration": 22,
             "learn": [
              0.3414142833
             ],
             "parameters": [
              {
               "depth": 4,
               "iterations": 50,
               "learning_rate": 0.1
              }
             ],
             "passed_time": 0.5270164314,
             "remaining_time": 1.764359357,
             "test": [
              0.4409408573
             ]
            },
            {
             "iteration": 23,
             "learn": [
              0.2835258997
             ],
             "parameters": [
              {
               "depth": 4,
               "iterations": 50,
               "learning_rate": 0.2
              }
             ],
             "passed_time": 0.5786474867,
             "remaining_time": 1.832383708,
             "test": [
              0.4260052661
             ]
            },
            {
             "iteration": 24,
             "learn": [
              0.1710058581
             ],
             "parameters": [
              {
               "depth": 4,
               "iterations": 50,
               "learning_rate": 0.5
              }
             ],
             "passed_time": 0.6249131979,
             "remaining_time": 1.874739594,
             "test": [
              0.4288333064
             ]
            },
            {
             "iteration": 25,
             "learn": [
              0.6051785766
             ],
             "parameters": [
              {
               "depth": 6,
               "iterations": 5,
               "learning_rate": 0.03
              }
             ],
             "passed_time": 0.6325922418,
             "remaining_time": 1.800454842,
             "test": [
              0.6116099278
             ]
            },
            {
             "iteration": 26,
             "learn": [
              0.5616670496
             ],
             "parameters": [
              {
               "depth": 6,
               "iterations": 5,
               "learning_rate": 0.05
              }
             ],
             "passed_time": 0.640258262,
             "remaining_time": 1.731068634,
             "test": [
              0.5725742492
             ]
            },
            {
             "iteration": 27,
             "learn": [
              0.4864641719
             ],
             "parameters": [
              {
               "depth": 6,
               "iterations": 5,
               "learning_rate": 0.1
              }
             ],
             "passed_time": 0.6477404937,
             "remaining_time": 1.665618412,
             "test": [
              0.5063428055
             ]
            },
            {
             "iteration": 28,
             "learn": [
              0.4060839164
             ],
             "parameters": [
              {
               "depth": 6,
               "iterations": 5,
               "learning_rate": 0.2
              }
             ],
             "passed_time": 0.6546398118,
             "remaining_time": 1.60273885,
             "test": [
              0.4450540879
             ]
            },
            {
             "iteration": 29,
             "learn": [
              0.343793853
             ],
             "parameters": [
              {
               "depth": 6,
               "iterations": 5,
               "learning_rate": 0.5
              }
             ],
             "passed_time": 0.6619337259,
             "remaining_time": 1.544512027,
             "test": [
              0.4160750058
             ]
            },
            {
             "iteration": 30,
             "learn": [
              0.5503987545
             ],
             "parameters": [
              {
               "depth": 6,
               "iterations": 10,
               "learning_rate": 0.03
              }
             ],
             "passed_time": 0.6747338071,
             "remaining_time": 1.501826861,
             "test": [
              0.5599114799
             ]
            },
            {
             "iteration": 31,
             "learn": [
              0.4956422052
             ],
             "parameters": [
              {
               "depth": 6,
               "iterations": 10,
               "learning_rate": 0.05
              }
             ],
             "passed_time": 0.6874481195,
             "remaining_time": 1.460827254,
             "test": [
              0.5113069164
             ]
            },
            {
             "iteration": 32,
             "learn": [
              0.4118032055
             ],
             "parameters": [
              {
               "depth": 6,
               "iterations": 10,
               "learning_rate": 0.1
              }
             ],
             "passed_time": 0.7013295866,
             "remaining_time": 1.423911585,
             "test": [
              0.453608203
             ]
            },
            {
             "iteration": 33,
             "learn": [
              0.3569485961
             ],
             "parameters": [
              {
               "depth": 6,
               "iterations": 10,
               "learning_rate": 0.2
              }
             ],
             "passed_time": 0.7155997445,
             "remaining_time": 1.389105386,
             "test": [
              0.4267873627
             ]
            },
            {
             "iteration": 34,
             "learn": [
              0.3039514878
             ],
             "parameters": [
              {
               "depth": 6,
               "iterations": 10,
               "learning_rate": 0.5
              }
             ],
             "passed_time": 0.7319436144,
             "remaining_time": 1.359323855,
             "test": [
              0.4160750058
             ]
            },
            {
             "iteration": 35,
             "learn": [
              0.504775424
             ],
             "parameters": [
              {
               "depth": 6,
               "iterations": 15,
               "learning_rate": 0.03
              }
             ],
             "passed_time": 0.7515619465,
             "remaining_time": 1.336110127,
             "test": [
              0.5194066154
             ]
            },
            {
             "iteration": 36,
             "learn": [
              0.4508918313
             ],
             "parameters": [
              {
               "depth": 6,
               "iterations": 15,
               "learning_rate": 0.05
              }
             ],
             "passed_time": 0.7738024957,
             "remaining_time": 1.317555601,
             "test": [
              0.4746667044
             ]
            },
            {
             "iteration": 37,
             "learn": [
              0.3783126318
             ],
             "parameters": [
              {
               "depth": 6,
               "iterations": 15,
               "learning_rate": 0.1
              }
             ],
             "passed_time": 0.7943653448,
             "remaining_time": 1.296069773,
             "test": [
              0.4352708063
             ]
            },
            {
             "iteration": 38,
             "learn": [
              0.3373544837
             ],
             "parameters": [
              {
               "depth": 6,
               "iterations": 15,
               "learning_rate": 0.2
              }
             ],
             "passed_time": 0.8147888877,
             "remaining_time": 1.274413388,
             "test": [
              0.4267524927
             ]
            },
            {
             "iteration": 39,
             "learn": [
              0.2748036425
             ],
             "parameters": [
              {
               "depth": 6,
               "iterations": 15,
               "learning_rate": 0.5
              }
             ],
             "passed_time": 0.8354965255,
             "remaining_time": 1.253244788,
             "test": [
              0.4160750058
             ]
            },
            {
             "iteration": 40,
             "learn": [
              0.4757294855
             ],
             "parameters": [
              {
               "depth": 6,
               "iterations": 20,
               "learning_rate": 0.03
              }
             ],
             "passed_time": 0.8577433845,
             "remaining_time": 1.234313651,
             "test": [
              0.4941089344
             ]
            },
            {
             "iteration": 41,
             "learn": [
              0.418917103
             ],
             "parameters": [
              {
               "depth": 6,
               "iterations": 20,
               "learning_rate": 0.05
              }
             ],
             "passed_time": 0.8881150122,
             "remaining_time": 1.226444541,
             "test": [
              0.4549242132
             ]
            },
            {
             "iteration": 42,
             "learn": [
              0.3604836344
             ],
             "parameters": [
              {
               "depth": 6,
               "iterations": 20,
               "learning_rate": 0.1
              }
             ],
             "passed_time": 0.9156050282,
             "remaining_time": 1.213708991,
             "test": [
              0.4352708063
             ]
            },
            {
             "iteration": 43,
             "learn": [
              0.3199117965
             ],
             "parameters": [
              {
               "depth": 6,
               "iterations": 20,
               "learning_rate": 0.2
              }
             ],
             "passed_time": 0.9511414048,
             "remaining_time": 1.210543606,
             "test": [
              0.4267524927
             ]
            },
            {
             "iteration": 44,
             "learn": [
              0.2305711698
             ],
             "parameters": [
              {
               "depth": 6,
               "iterations": 20,
               "learning_rate": 0.5
              }
             ],
             "passed_time": 0.9909129967,
             "remaining_time": 1.211115885,
             "test": [
              0.4160750058
             ]
            },
            {
             "iteration": 45,
             "learn": [
              0.3832819001
             ],
             "parameters": [
              {
               "depth": 6,
               "iterations": 50,
               "learning_rate": 0.03
              }
             ],
             "passed_time": 1.056461073,
             "remaining_time": 1.240193434,
             "test": [
              0.4373667677
             ]
            },
            {
             "iteration": 46,
             "learn": [
              0.3466777321
             ],
             "parameters": [
              {
               "depth": 6,
               "iterations": 50,
               "learning_rate": 0.05
              }
             ],
             "passed_time": 1.120463451,
             "remaining_time": 1.263501339,
             "test": [
              0.4259933758
             ]
            },
            {
             "iteration": 47,
             "learn": [
              0.2988197904
             ],
             "parameters": [
              {
               "depth": 6,
               "iterations": 50,
               "learning_rate": 0.1
              }
             ],
             "passed_time": 1.194807238,
             "remaining_time": 1.294374508,
             "test": [
              0.4254730316
             ]
            },
            {
             "iteration": 48,
             "learn": [
              0.2260542156
             ],
             "parameters": [
              {
               "depth": 6,
               "iterations": 50,
               "learning_rate": 0.2
              }
             ],
             "passed_time": 1.260963683,
             "remaining_time": 1.312431588,
             "test": [
              0.4267524927
             ]
            },
            {
             "iteration": 49,
             "learn": [
              0.1009458975
             ],
             "parameters": [
              {
               "depth": 6,
               "iterations": 50,
               "learning_rate": 0.5
              }
             ],
             "passed_time": 1.331809335,
             "remaining_time": 1.331809335,
             "test": [
              0.4160750058
             ]
            },
            {
             "iteration": 50,
             "learn": [
              0.6067557455
             ],
             "parameters": [
              {
               "depth": 10,
               "iterations": 5,
               "learning_rate": 0.03
              }
             ],
             "passed_time": 1.353601108,
             "remaining_time": 1.300518712,
             "test": [
              0.6117985204
             ]
            },
            {
             "iteration": 51,
             "learn": [
              0.5586729931
             ],
             "parameters": [
              {
               "depth": 10,
               "iterations": 5,
               "learning_rate": 0.05
              }
             ],
             "passed_time": 1.371547238,
             "remaining_time": 1.266043604,
             "test": [
              0.5757138929
             ]
            },
            {
             "iteration": 52,
             "learn": [
              0.4788250322
             ],
             "parameters": [
              {
               "depth": 10,
               "iterations": 5,
               "learning_rate": 0.1
              }
             ],
             "passed_time": 1.388345636,
             "remaining_time": 1.231174432,
             "test": [
              0.508491783
             ]
            },
            {
             "iteration": 53,
             "learn": [
              0.3884926804
             ],
             "parameters": [
              {
               "depth": 10,
               "iterations": 5,
               "learning_rate": 0.2
              }
             ],
             "passed_time": 1.411210603,
             "remaining_time": 1.202142365,
             "test": [
              0.4431682866
             ]
            },
            {
             "iteration": 54,
             "learn": [
              0.2785950028
             ],
             "parameters": [
              {
               "depth": 10,
               "iterations": 5,
               "learning_rate": 0.5
              }
             ],
             "passed_time": 1.436381798,
             "remaining_time": 1.175221471,
             "test": [
              0.4339895923
             ]
            },
            {
             "iteration": 55,
             "learn": [
              0.5420052023
             ],
             "parameters": [
              {
               "depth": 10,
               "iterations": 10,
               "learning_rate": 0.03
              }
             ],
             "passed_time": 1.466484241,
             "remaining_time": 1.152237618,
             "test": [
              0.5550978712
             ]
            },
            {
             "iteration": 56,
             "learn": [
              0.4837149291
             ],
             "parameters": [
              {
               "depth": 10,
               "iterations": 10,
               "learning_rate": 0.05
              }
             ],
             "passed_time": 1.495537805,
             "remaining_time": 1.12821273,
             "test": [
              0.5112660305
             ]
            },
            {
             "iteration": 57,
             "learn": [
              0.4017090357
             ],
             "parameters": [
              {
               "depth": 10,
               "iterations": 10,
               "learning_rate": 0.1
              }
             ],
             "passed_time": 1.526544361,
             "remaining_time": 1.105428675,
             "test": [
              0.4549408544
             ]
            },
            {
             "iteration": 58,
             "learn": [
              0.3298876466
             ],
             "parameters": [
              {
               "depth": 10,
               "iterations": 10,
               "learning_rate": 0.2
              }
             ],
             "passed_time": 1.559054261,
             "remaining_time": 1.083410588,
             "test": [
              0.4280404704
             ]
            },
            {
             "iteration": 59,
             "learn": [
              0.2185164059
             ],
             "parameters": [
              {
               "depth": 10,
               "iterations": 10,
               "learning_rate": 0.5
              }
             ],
             "passed_time": 1.617475276,
             "remaining_time": 1.078316851,
             "test": [
              0.4339895923
             ]
            },
            {
             "iteration": 60,
             "learn": [
              0.4932223088
             ],
             "parameters": [
              {
               "depth": 10,
               "iterations": 15,
               "learning_rate": 0.03
              }
             ],
             "passed_time": 1.677358224,
             "remaining_time": 1.072409356,
             "test": [
              0.5175651947
             ]
            },
            {
             "iteration": 61,
             "learn": [
              0.4284399337
             ],
             "parameters": [
              {
               "depth": 10,
               "iterations": 15,
               "learning_rate": 0.05
              }
             ],
             "passed_time": 1.721514101,
             "remaining_time": 1.055121546,
             "test": [
              0.4755704242
             ]
            },
            {
             "iteration": 62,
             "learn": [
              0.350574814
             ],
             "parameters": [
              {
               "depth": 10,
               "iterations": 15,
               "learning_rate": 0.1
              }
             ],
             "passed_time": 1.771617523,
             "remaining_time": 1.040473783,
             "test": [
              0.4410091237
             ]
            },
            {
             "iteration": 63,
             "learn": [
              0.2924409113
             ],
             "parameters": [
              {
               "depth": 10,
               "iterations": 15,
               "learning_rate": 0.2
              }
             ],
             "passed_time": 1.822044952,
             "remaining_time": 1.024900286,
             "test": [
              0.4280404704
             ]
            },
            {
             "iteration": 64,
             "learn": [
              0.1868590347
             ],
             "parameters": [
              {
               "depth": 10,
               "iterations": 15,
               "learning_rate": 0.5
              }
             ],
             "passed_time": 1.892862214,
             "remaining_time": 1.0192335,
             "test": [
              0.4339895923
             ]
            },
            {
             "iteration": 65,
             "learn": [
              0.4570451624
             ],
             "parameters": [
              {
               "depth": 10,
               "iterations": 20,
               "learning_rate": 0.03
              }
             ],
             "passed_time": 1.954352412,
             "remaining_time": 1.006787606,
             "test": [
              0.4878435897
             ]
            },
            {
             "iteration": 66,
             "learn": [
              0.393877366
             ],
             "parameters": [
              {
               "depth": 10,
               "iterations": 20,
               "learning_rate": 0.05
              }
             ],
             "passed_time": 2.034443996,
             "remaining_time": 1.00203958,
             "test": [
              0.4519084318
             ]
            },
            {
             "iteration": 67,
             "learn": [
              0.3274368158
             ],
             "parameters": [
              {
               "depth": 10,
               "iterations": 20,
               "learning_rate": 0.1
              }
             ],
             "passed_time": 2.097572377,
             "remaining_time": 0.9870928835,
             "test": [
              0.4332660801
             ]
            },
            {
             "iteration": 68,
             "learn": [
              0.2691458053
             ],
             "parameters": [
              {
               "depth": 10,
               "iterations": 20,
               "learning_rate": 0.2
              }
             ],
             "passed_time": 2.168481144,
             "remaining_time": 0.9742451518,
             "test": [
              0.4280404704
             ]
            },
            {
             "iteration": 69,
             "learn": [
              0.1600938204
             ],
             "parameters": [
              {
               "depth": 10,
               "iterations": 20,
               "learning_rate": 0.5
              }
             ],
             "passed_time": 2.244367845,
             "remaining_time": 0.9618719336,
             "test": [
              0.4339895923
             ]
            },
            {
             "iteration": 70,
             "learn": [
              0.3635418034
             ],
             "parameters": [
              {
               "depth": 10,
               "iterations": 50,
               "learning_rate": 0.03
              }
             ],
             "passed_time": 2.406157617,
             "remaining_time": 0.9827967731,
             "test": [
              0.4327536011
             ]
            },
            {
             "iteration": 71,
             "learn": [
              0.3151709933
             ],
             "parameters": [
              {
               "depth": 10,
               "iterations": 50,
               "learning_rate": 0.05
              }
             ],
             "passed_time": 2.556517262,
             "remaining_time": 0.9942011576,
             "test": [
              0.4282709582
             ]
            },
            {
             "iteration": 72,
             "learn": [
              0.2408343724
             ],
             "parameters": [
              {
               "depth": 10,
               "iterations": 50,
               "learning_rate": 0.1
              }
             ],
             "passed_time": 2.760171071,
             "remaining_time": 1.02088519,
             "test": [
              0.4319440122
             ]
            },
            {
             "iteration": 73,
             "learn": [
              0.1475520575
             ],
             "parameters": [
              {
               "depth": 10,
               "iterations": 50,
               "learning_rate": 0.2
              }
             ],
             "passed_time": 2.989814231,
             "remaining_time": 1.05047527,
             "test": [
              0.4280404704
             ]
            },
            {
             "iteration": 74,
             "learn": [
              0.0479126778
             ],
             "parameters": [
              {
               "depth": 10,
               "iterations": 50,
               "learning_rate": 0.5
              }
             ],
             "passed_time": 3.20904905,
             "remaining_time": 1.069683017,
             "test": [
              0.4339895923
             ]
            },
            {
             "iteration": 75,
             "learn": [
              0.6067557455
             ],
             "parameters": [
              {
               "depth": 16,
               "iterations": 5,
               "learning_rate": 0.03
              }
             ],
             "passed_time": 3.220819387,
             "remaining_time": 1.017100859,
             "test": [
              0.6117985204
             ]
            },
            {
             "iteration": 76,
             "learn": [
              0.5567788517
             ],
             "parameters": [
              {
               "depth": 16,
               "iterations": 5,
               "learning_rate": 0.05
              }
             ],
             "passed_time": 3.279318338,
             "remaining_time": 0.9795366463,
             "test": [
              0.5736164812
             ]
            },
            {
             "iteration": 77,
             "learn": [
              0.4735880619
             ],
             "parameters": [
              {
               "depth": 16,
               "iterations": 5,
               "learning_rate": 0.1
              }
             ],
             "passed_time": 3.332538969,
             "remaining_time": 0.9399468888,
             "test": [
              0.5035643933
             ]
            },
            {
             "iteration": 78,
             "learn": [
              0.3742964288
             ],
             "parameters": [
              {
               "depth": 16,
               "iterations": 5,
               "learning_rate": 0.2
              }
             ],
             "passed_time": 3.837522576,
             "remaining_time": 1.020100938,
             "test": [
              0.4584376178
             ]
            },
            {
             "iteration": 79,
             "learn": [
              0.2475221938
             ],
             "parameters": [
              {
               "depth": 16,
               "iterations": 5,
               "learning_rate": 0.5
              }
             ],
             "passed_time": 4.747044019,
             "remaining_time": 1.186761005,
             "test": [
              0.451490244
             ]
            },
            {
             "iteration": 80,
             "learn": [
              0.5420052023
             ],
             "parameters": [
              {
               "depth": 16,
               "iterations": 10,
               "learning_rate": 0.03
              }
             ],
             "passed_time": 4.78203618,
             "remaining_time": 1.12171219,
             "test": [
              0.5550978712
             ]
            },
            {
             "iteration": 81,
             "learn": [
              0.4758781625
             ],
             "parameters": [
              {
               "depth": 16,
               "iterations": 10,
               "learning_rate": 0.05
              }
             ],
             "passed_time": 4.887934747,
             "remaining_time": 1.072961286,
             "test": [
              0.5062584237
             ]
            },
            {
             "iteration": 82,
             "learn": [
              0.3775128918
             ],
             "parameters": [
              {
               "depth": 16,
               "iterations": 10,
               "learning_rate": 0.1
              }
             ],
             "passed_time": 5.414965914,
             "remaining_time": 1.109089404,
             "test": [
              0.4464488847
             ]
            },
            {
             "iteration": 83,
             "learn": [
              0.3074404933
             ],
             "parameters": [
              {
               "depth": 16,
               "iterations": 10,
               "learning_rate": 0.2
              }
             ],
             "passed_time": 6.30303704,
             "remaining_time": 1.200578484,
             "test": [
              0.4361813108
             ]
            },
            {
             "iteration": 84,
             "learn": [
              0.1918247447
             ],
             "parameters": [
              {
               "depth": 16,
               "iterations": 10,
               "learning_rate": 0.5
              }
             ],
             "passed_time": 7.287096251,
             "remaining_time": 1.285958162,
             "test": [
              0.451490244
             ]
            },
            {
             "iteration": 85,
             "learn": [
              0.4892255639
             ],
             "parameters": [
              {
               "depth": 16,
               "iterations": 15,
               "learning_rate": 0.03
              }
             ],
             "passed_time": 7.825278135,
             "remaining_time": 1.273882487,
             "test": [
              0.5198253637
             ]
            },
            {
             "iteration": 86,
             "learn": [
              0.4187945518
             ],
             "parameters": [
              {
               "depth": 16,
               "iterations": 15,
               "learning_rate": 0.05
              }
             ],
             "passed_time": 8.123077428,
             "remaining_time": 1.213793179,
             "test": [
              0.4722162335
             ]
            },
            {
             "iteration": 87,
             "learn": [
              0.3354571687
             ],
             "parameters": [
              {
               "depth": 16,
               "iterations": 15,
               "learning_rate": 0.1
              }
             ],
             "passed_time": 8.73968368,
             "remaining_time": 1.191775047,
             "test": [
              0.4354821673
             ]
            },
            {
             "iteration": 88,
             "learn": [
              0.2641687313
             ],
             "parameters": [
              {
               "depth": 16,
               "iterations": 15,
               "learning_rate": 0.2
              }
             ],
             "passed_time": 10.47546818,
             "remaining_time": 1.294720787,
             "test": [
              0.4361813108
             ]
            },
            {
             "iteration": 89,
             "learn": [
              0.1314940733
             ],
             "parameters": [
              {
               "depth": 16,
               "iterations": 15,
               "learning_rate": 0.5
              }
             ],
             "passed_time": 13.15407762,
             "remaining_time": 1.46156418,
             "test": [
              0.451490244
             ]
            },
            {
             "iteration": 90,
             "learn": [
              0.4506198979
             ],
             "parameters": [
              {
               "depth": 16,
               "iterations": 20,
               "learning_rate": 0.03
              }
             ],
             "passed_time": 14.14807949,
             "remaining_time": 1.399260609,
             "test": [
              0.4955384633
             ]
            },
            {
             "iteration": 91,
             "learn": [
              0.3859973555
             ],
             "parameters": [
              {
               "depth": 16,
               "iterations": 20,
               "learning_rate": 0.05
              }
             ],
             "passed_time": 14.80851882,
             "remaining_time": 1.287697288,
             "test": [
              0.4505465945
             ]
            },
            {
             "iteration": 92,
             "learn": [
              0.3029945117
             ],
             "parameters": [
              {
               "depth": 16,
               "iterations": 20,
               "learning_rate": 0.1
              }
             ],
             "passed_time": 15.48925714,
             "remaining_time": 1.165858064,
             "test": [
              0.4354821673
             ]
            },
            {
             "iteration": 93,
             "learn": [
              0.2371001845
             ],
             "parameters": [
              {
               "depth": 16,
               "iterations": 20,
               "learning_rate": 0.2
              }
             ],
             "passed_time": 17.69721862,
             "remaining_time": 1.129609699,
             "test": [
              0.4361813108
             ]
            },
            {
             "iteration": 94,
             "learn": [
              0.08755643829
             ],
             "parameters": [
              {
               "depth": 16,
               "iterations": 20,
               "learning_rate": 0.5
              }
             ],
             "passed_time": 22.57829323,
             "remaining_time": 1.188331223,
             "test": [
              0.451490244
             ]
            },
            {
             "iteration": 95,
             "learn": [
              0.3431506758
             ],
             "parameters": [
              {
               "depth": 16,
               "iterations": 50,
               "learning_rate": 0.03
              }
             ],
             "passed_time": 24.7244127,
             "remaining_time": 1.030183863,
             "test": [
              0.4347502113
             ]
            },
            {
             "iteration": 96,
             "learn": [
              0.2845844942
             ],
             "parameters": [
              {
               "depth": 16,
               "iterations": 50,
               "learning_rate": 0.05
              }
             ],
             "passed_time": 28.42131479,
             "remaining_time": 0.8790097358,
             "test": [
              0.4275918772
             ]
            },
            {
             "iteration": 97,
             "learn": [
              0.2034764971
             ],
             "parameters": [
              {
               "depth": 16,
               "iterations": 50,
               "learning_rate": 0.1
              }
             ],
             "passed_time": 31.96817002,
             "remaining_time": 0.6524116331,
             "test": [
              0.4354821673
             ]
            },
            {
             "iteration": 98,
             "learn": [
              0.09328889446
             ],
             "parameters": [
              {
               "depth": 16,
               "iterations": 50,
               "learning_rate": 0.2
              }
             ],
             "passed_time": 42.54578618,
             "remaining_time": 0.429755416,
             "test": [
              0.4361813108
             ]
            },
            {
             "iteration": 99,
             "learn": [
              0.02540536688
             ],
             "parameters": [
              {
               "depth": 16,
               "iterations": 50,
               "learning_rate": 0.5
              }
             ],
             "passed_time": 59.23324754,
             "remaining_time": 0,
             "test": [
              0.451490244
             ]
            }
           ],
           "meta": {
            "iteration_count": 100,
            "launch_mode": "Train",
            "learn_metrics": [
             {
              "best_value": "Min",
              "name": "Logloss"
             }
            ],
            "learn_sets": [
             "learn"
            ],
            "name": "experiment",
            "parameters": "parameters",
            "test_metrics": [
             {
              "best_value": "Min",
              "name": "Logloss"
             }
            ],
            "test_sets": [
             "test"
            ]
           }
          },
          "passed_iterations": 99,
          "total_iterations": 100
         },
         "name": "catboost_info",
         "path": "catboost_info"
        }
       },
       "layout": "IPY_MODEL_a8248ae2648f46ddb59c1cde3b108f0c"
      }
     },
     "a8248ae2648f46ddb59c1cde3b108f0c": {
      "model_module": "@jupyter-widgets/base",
      "model_module_version": "1.2.0",
      "model_name": "LayoutModel",
      "state": {
       "_model_module": "@jupyter-widgets/base",
       "_model_module_version": "1.2.0",
       "_model_name": "LayoutModel",
       "_view_count": null,
       "_view_module": "@jupyter-widgets/base",
       "_view_module_version": "1.2.0",
       "_view_name": "LayoutView",
       "align_content": null,
       "align_items": null,
       "align_self": "stretch",
       "border": null,
       "bottom": null,
       "display": null,
       "flex": null,
       "flex_flow": null,
       "grid_area": null,
       "grid_auto_columns": null,
       "grid_auto_flow": null,
       "grid_auto_rows": null,
       "grid_column": null,
       "grid_gap": null,
       "grid_row": null,
       "grid_template_areas": null,
       "grid_template_columns": null,
       "grid_template_rows": null,
       "height": "500px",
       "justify_content": null,
       "justify_items": null,
       "left": null,
       "margin": null,
       "max_height": null,
       "max_width": null,
       "min_height": null,
       "min_width": null,
       "object_fit": null,
       "object_position": null,
       "order": null,
       "overflow": null,
       "overflow_x": null,
       "overflow_y": null,
       "padding": null,
       "right": null,
       "top": null,
       "visibility": null,
       "width": null
      }
     }
    },
    "version_major": 2,
    "version_minor": 0
   }
  }
 },
 "nbformat": 4,
 "nbformat_minor": 5
}
